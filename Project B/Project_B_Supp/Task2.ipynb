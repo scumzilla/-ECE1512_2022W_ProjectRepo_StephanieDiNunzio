{
  "cells": [
    {
      "cell_type": "markdown",
      "metadata": {
        "id": "6WYMfvCNPwpm"
      },
      "source": [
        "# Project B: Knowledge Distillation for Building Lightweight Deep Learning Models in Visual Classification Tasks"
      ]
    },
    {
      "cell_type": "code",
      "execution_count": 1,
      "metadata": {
        "id": "vA8ppgB2P0aJ"
      },
      "outputs": [
        {
          "name": "stderr",
          "output_type": "stream",
          "text": [
            "C:\\Users\\Stephanie\\anaconda3\\envs\\ece1512\\lib\\site-packages\\tqdm\\auto.py:22: TqdmWarning: IProgress not found. Please update jupyter and ipywidgets. See https://ipywidgets.readthedocs.io/en/stable/user_install.html\n",
            "  from .autonotebook import tqdm as notebook_tqdm\n"
          ]
        }
      ],
      "source": [
        "import tensorflow.compat.v2 as tf\n",
        "import tensorflow_datasets as tfds\n",
        "from typing import Union\n",
        "\n",
        "tf.enable_v2_behavior()\n",
        "\n",
        "BATCH_SIZE = 32\n",
        "NUM_EPOCHS = 10"
      ]
    },
    {
      "cell_type": "markdown",
      "metadata": {
        "id": "H2EFLQROP2R7"
      },
      "source": [
        "# Data loading"
      ]
    },
    {
      "cell_type": "code",
      "execution_count": 11,
      "metadata": {},
      "outputs": [
        {
          "data": {
            "text/html": [
              "<div>\n",
              "<style scoped>\n",
              "    .dataframe tbody tr th:only-of-type {\n",
              "        vertical-align: middle;\n",
              "    }\n",
              "\n",
              "    .dataframe tbody tr th {\n",
              "        vertical-align: top;\n",
              "    }\n",
              "\n",
              "    .dataframe thead th {\n",
              "        text-align: right;\n",
              "    }\n",
              "</style>\n",
              "<table border=\"1\" class=\"dataframe\">\n",
              "  <thead>\n",
              "    <tr style=\"text-align: right;\">\n",
              "      <th></th>\n",
              "      <th>Image Name</th>\n",
              "      <th>Majority Vote Label</th>\n",
              "      <th>Partition</th>\n",
              "    </tr>\n",
              "  </thead>\n",
              "  <tbody>\n",
              "    <tr>\n",
              "      <th>0</th>\n",
              "      <td>MHIST_aaa.png</td>\n",
              "      <td>SSA</td>\n",
              "      <td>train</td>\n",
              "    </tr>\n",
              "    <tr>\n",
              "      <th>1</th>\n",
              "      <td>MHIST_aab.png</td>\n",
              "      <td>HP</td>\n",
              "      <td>train</td>\n",
              "    </tr>\n",
              "    <tr>\n",
              "      <th>2</th>\n",
              "      <td>MHIST_aac.png</td>\n",
              "      <td>SSA</td>\n",
              "      <td>train</td>\n",
              "    </tr>\n",
              "    <tr>\n",
              "      <th>3</th>\n",
              "      <td>MHIST_aae.png</td>\n",
              "      <td>HP</td>\n",
              "      <td>train</td>\n",
              "    </tr>\n",
              "    <tr>\n",
              "      <th>4</th>\n",
              "      <td>MHIST_aaf.png</td>\n",
              "      <td>SSA</td>\n",
              "      <td>train</td>\n",
              "    </tr>\n",
              "    <tr>\n",
              "      <th>...</th>\n",
              "      <td>...</td>\n",
              "      <td>...</td>\n",
              "      <td>...</td>\n",
              "    </tr>\n",
              "    <tr>\n",
              "      <th>3147</th>\n",
              "      <td>MHIST_cpn.png</td>\n",
              "      <td>SSA</td>\n",
              "      <td>train</td>\n",
              "    </tr>\n",
              "    <tr>\n",
              "      <th>3148</th>\n",
              "      <td>MHIST_cfc.png</td>\n",
              "      <td>SSA</td>\n",
              "      <td>test</td>\n",
              "    </tr>\n",
              "    <tr>\n",
              "      <th>3149</th>\n",
              "      <td>MHIST_cgp.png</td>\n",
              "      <td>SSA</td>\n",
              "      <td>test</td>\n",
              "    </tr>\n",
              "    <tr>\n",
              "      <th>3150</th>\n",
              "      <td>MHIST_dlf.png</td>\n",
              "      <td>SSA</td>\n",
              "      <td>train</td>\n",
              "    </tr>\n",
              "    <tr>\n",
              "      <th>3151</th>\n",
              "      <td>MHIST_cks.png</td>\n",
              "      <td>SSA</td>\n",
              "      <td>train</td>\n",
              "    </tr>\n",
              "  </tbody>\n",
              "</table>\n",
              "<p>3152 rows × 3 columns</p>\n",
              "</div>"
            ],
            "text/plain": [
              "         Image Name Majority Vote Label Partition\n",
              "0     MHIST_aaa.png                 SSA     train\n",
              "1     MHIST_aab.png                  HP     train\n",
              "2     MHIST_aac.png                 SSA     train\n",
              "3     MHIST_aae.png                  HP     train\n",
              "4     MHIST_aaf.png                 SSA     train\n",
              "...             ...                 ...       ...\n",
              "3147  MHIST_cpn.png                 SSA     train\n",
              "3148  MHIST_cfc.png                 SSA      test\n",
              "3149  MHIST_cgp.png                 SSA      test\n",
              "3150  MHIST_dlf.png                 SSA     train\n",
              "3151  MHIST_cks.png                 SSA     train\n",
              "\n",
              "[3152 rows x 3 columns]"
            ]
          },
          "execution_count": 11,
          "metadata": {},
          "output_type": "execute_result"
        }
      ],
      "source": [
        "import pandas as pd\n",
        "\n",
        "# Load train and test splits.\n",
        "anno_dir = r'D:\\Github Repos\\ECE1512\\-ECE1512_2022W_ProjectRepo_StephanieDiNunzio\\Project B\\Project_B_Supp\\mhist_dataset\\annotations.csv' #you should change to your directory\n",
        "df = pd.read_csv(anno_dir)\n",
        "df = df[['Image Name','Majority Vote Label','Partition']]\n",
        "df"
      ]
    },
    {
      "cell_type": "code",
      "execution_count": 15,
      "metadata": {},
      "outputs": [],
      "source": [
        "import shutil\n",
        "\n",
        "hp_test_dir = r'D:\\Github Repos\\ECE1512\\-ECE1512_2022W_ProjectRepo_StephanieDiNunzio\\Project B\\Project_B_Supp\\mhist_dataset\\images_sorted\\test\\HP_test'\n",
        "hp_train_dir = r'D:\\Github Repos\\ECE1512\\-ECE1512_2022W_ProjectRepo_StephanieDiNunzio\\Project B\\Project_B_Supp\\mhist_dataset\\images_sorted\\train\\HP_train'\n",
        "ssa_test_dir = r'D:\\Github Repos\\ECE1512\\-ECE1512_2022W_ProjectRepo_StephanieDiNunzio\\Project B\\Project_B_Supp\\mhist_dataset\\images_sorted\\test\\SSA_test'\n",
        "ssa_train_dir = r'D:\\Github Repos\\ECE1512\\-ECE1512_2022W_ProjectRepo_StephanieDiNunzio\\Project B\\Project_B_Supp\\mhist_dataset\\images_sorted\\train\\SSA_train'\n",
        "\n",
        "img_root_dir = r'D:\\Github Repos\\ECE1512\\-ECE1512_2022W_ProjectRepo_StephanieDiNunzio\\Project B\\Project_B_Supp\\mhist_dataset\\images\\images'\n",
        "\n",
        "for i, row in df.iterrows():\n",
        "    img_dir = img_root_dir + '\\\\' + row['Image Name']\n",
        "    if row['Majority Vote Label'] == 'SSA':\n",
        "        if row['Partition'] == 'train':\n",
        "            new_dir = ssa_train_dir + '\\\\' + row['Image Name']\n",
        "            shutil.copyfile(img_dir,new_dir)\n",
        "        else:\n",
        "            new_dir = ssa_test_dir + '\\\\' + row['Image Name']\n",
        "            shutil.copyfile(img_dir,new_dir)\n",
        "    else:\n",
        "        if row['Partition'] == 'train':\n",
        "            new_dir = hp_train_dir + '\\\\' + row['Image Name']\n",
        "            shutil.copyfile(img_dir,new_dir)\n",
        "        else:\n",
        "            new_dir = hp_test_dir + '\\\\' + row['Image Name']\n",
        "            shutil.copyfile(img_dir,new_dir)\n",
        "    #break"
      ]
    },
    {
      "cell_type": "code",
      "execution_count": 2,
      "metadata": {
        "id": "ynByMG_UP4A4"
      },
      "outputs": [
        {
          "name": "stdout",
          "output_type": "stream",
          "text": [
            "Found 2175 images belonging to 2 classes.\n",
            "Found 977 images belonging to 2 classes.\n"
          ]
        }
      ],
      "source": [
        "from keras.preprocessing.image import ImageDataGenerator\n",
        "\n",
        "test_dir = r'D:\\Github Repos\\ECE1512\\-ECE1512_2022W_ProjectRepo_StephanieDiNunzio\\Project B\\Project_B_Supp\\mhist_dataset\\images_sorted\\test'\n",
        "train_dir = r'D:\\Github Repos\\ECE1512\\-ECE1512_2022W_ProjectRepo_StephanieDiNunzio\\Project B\\Project_B_Supp\\mhist_dataset\\images_sorted\\train'\n",
        "\n",
        "train_datagen = ImageDataGenerator(rescale=1/255.,\n",
        "shear_range=0.1,\n",
        "rotation_range=15,\n",
        "zoom_range=0.2, # zoom\n",
        "horizontal_flip=True,\n",
        "vertical_flip=True)\n",
        "\n",
        "test_datagen = ImageDataGenerator(rescale=1/255.)\n",
        "\n",
        "train_generator = train_datagen.flow_from_directory(train_dir,\n",
        "class_mode='binary',\n",
        "interpolation='bilinear',\n",
        "target_size=(224, 224),\n",
        "batch_size=32,\n",
        "shuffle=True,)\n",
        "\n",
        "test_generator = test_datagen.flow_from_directory(test_dir,\n",
        "class_mode='binary',\n",
        "interpolation='bilinear',\n",
        "target_size=(224, 224),\n",
        "batch_size=32,\n",
        "shuffle=False)"
      ]
    },
    {
      "cell_type": "code",
      "execution_count": 3,
      "metadata": {},
      "outputs": [],
      "source": [
        "import math\n"
      ]
    },
    {
      "cell_type": "markdown",
      "metadata": {
        "id": "kAZwfvW5P63q"
      },
      "source": [
        "# Model creation"
      ]
    },
    {
      "cell_type": "code",
      "execution_count": 215,
      "metadata": {},
      "outputs": [
        {
          "name": "stdout",
          "output_type": "stream",
          "text": [
            "Model: \"model_15\"\n",
            "_________________________________________________________________\n",
            "Layer (type)                 Output Shape              Param #   \n",
            "=================================================================\n",
            "input_58 (InputLayer)        [(None, 244, 244, 3)]     0         \n",
            "_________________________________________________________________\n",
            "resnet50v2 (Functional)      (None, None, None, 2048)  23564800  \n",
            "_________________________________________________________________\n",
            "global_average_pooling2d_23  (None, 2048)              0         \n",
            "_________________________________________________________________\n",
            "dense_57 (Dense)             (None, 1)                 2049      \n",
            "=================================================================\n",
            "Total params: 23,566,849\n",
            "Trainable params: 2,049\n",
            "Non-trainable params: 23,564,800\n",
            "_________________________________________________________________\n"
          ]
        }
      ],
      "source": [
        "import keras\n",
        "from tensorflow.keras import layers\n",
        "\n",
        "resnet = tf.keras.applications.resnet_v2.ResNet50V2(weights='imagenet', include_top=False)\n",
        "resnet.trainable = False\n",
        "\n",
        "inputs = keras.Input(shape=(244,244,3))\n",
        "x = resnet(inputs, training=False)\n",
        "x= layers.GlobalAveragePooling2D()(x)\n",
        "outputs = layers.Dense(1)(x)\n",
        "\n",
        "\n",
        "teacher_model = keras.Model(inputs, outputs)\n",
        "teacher_model.summary()"
      ]
    },
    {
      "cell_type": "markdown",
      "metadata": {
        "id": "JS8xkuH0QbOS"
      },
      "source": [
        "# Student loss function"
      ]
    },
    {
      "cell_type": "code",
      "execution_count": 22,
      "metadata": {
        "id": "lDKia4gPQMIr"
      },
      "outputs": [],
      "source": [
        "#@test {\"output\": \"ignore\"}\n",
        "\n",
        "# Hyperparameters for distillation (need to be tuned).\n",
        "ALPHA = 0.5 # task balance between cross-entropy and distillation loss\n",
        "DISTILLATION_TEMPERATURE = 4. #temperature hyperparameter\n",
        "\n",
        "def distillation_loss(teacher_logits: tf.Tensor, student_logits: tf.Tensor,\n",
        "                      temperature: Union[float, tf.Tensor]):\n",
        "  \"\"\"Compute distillation loss.\n",
        "\n",
        "  This function computes cross entropy between softened logits and softened\n",
        "  targets. The resulting loss is scaled by the squared temperature so that\n",
        "  the gradient magnitude remains approximately constant as the temperature is\n",
        "  changed. For reference, see Hinton et al., 2014, \"Distilling the knowledge in\n",
        "  a neural network.\"\n",
        "\n",
        "  Args:\n",
        "    teacher_logits: A Tensor of logits provided by the teacher.\n",
        "    student_logits: A Tensor of logits provided by the student, of the same\n",
        "      shape as `teacher_logits`.\n",
        "    temperature: Temperature to use for distillation.\n",
        "\n",
        "  Returns:\n",
        "    A scalar Tensor containing the distillation loss.\n",
        "  \"\"\"\n",
        " # your code start from here for step 3\n",
        "  soft_targets = tf.nn.sigmoid(teacher_logits)\n",
        "\n",
        "  return tf.reduce_mean(\n",
        "      tf.nn.sigmoid_cross_entropy_with_logits(\n",
        "          soft_targets, student_logits / temperature)) * temperature ** 2\n",
        "\n",
        "def compute_student_loss(images, labels):\n",
        "  \"\"\"Compute class knowledge distillation student loss for given images\n",
        "     and labels.\n",
        "\n",
        "  Args:\n",
        "    images: Tensor representing a batch of images.\n",
        "    labels: Tensor representing a batch of labels.\n",
        "\n",
        "  Returns:\n",
        "    Scalar loss Tensor.\n",
        "  \"\"\"\n",
        "  student_class_logits = student_model(images, training=True)\n",
        "\n",
        "  # Compute class distillation loss between student class logits and\n",
        "  # softened teacher class targets probabilities.\n",
        "\n",
        "  # your code start from here for step 3\n",
        "\n",
        "  teacher_class_logits = teacher_model(images, training=False)\n",
        "  distillation_loss_value = distillation_loss(teacher_class_logits, student_class_logits, DISTILLATION_TEMPERATURE)\n",
        "\n",
        "  # Compute cross-entropy loss with hard targets.\n",
        "\n",
        "  # your code start from here for step 3\n",
        "  loss = keras.losses.BinaryCrossentropy(from_logits=True)\n",
        "  \n",
        "  cross_entropy_loss_value = loss(labels,student_class_logits).numpy()\n",
        "\n",
        "  return ALPHA*cross_entropy_loss_value + (1-ALPHA)*distillation_loss_value"
      ]
    },
    {
      "cell_type": "markdown",
      "metadata": {
        "id": "NQL1lJdaRPT1"
      },
      "source": [
        "# Training models"
      ]
    },
    {
      "cell_type": "code",
      "execution_count": 216,
      "metadata": {},
      "outputs": [],
      "source": [
        "LEARNING_RATE = 0.001\n",
        "teacher_model.compile(optimizer=tf.keras.optimizers.Adam(learning_rate=LEARNING_RATE),\n",
        "              loss=tf.keras.losses.BinaryCrossentropy(from_logits=True),\n",
        "              metrics=['accuracy'])"
      ]
    },
    {
      "cell_type": "code",
      "execution_count": 217,
      "metadata": {},
      "outputs": [
        {
          "name": "stdout",
          "output_type": "stream",
          "text": [
            "Epoch 1/10\n",
            "67/67 [==============================] - 21s 282ms/step - loss: 0.5300 - accuracy: 0.7387 - val_loss: 0.4865 - val_accuracy: 0.7156\n",
            "Epoch 2/10\n",
            "67/67 [==============================] - 16s 232ms/step - loss: 0.4323 - accuracy: 0.7839 - val_loss: 0.4485 - val_accuracy: 0.7667\n",
            "Epoch 3/10\n",
            "67/67 [==============================] - 15s 228ms/step - loss: 0.4107 - accuracy: 0.7947 - val_loss: 0.4491 - val_accuracy: 0.7583\n",
            "Epoch 4/10\n",
            "67/67 [==============================] - 15s 229ms/step - loss: 0.4012 - accuracy: 0.8017 - val_loss: 0.4299 - val_accuracy: 0.7802\n",
            "Epoch 5/10\n",
            "67/67 [==============================] - 15s 230ms/step - loss: 0.3830 - accuracy: 0.8180 - val_loss: 0.4242 - val_accuracy: 0.7833\n",
            "Epoch 6/10\n",
            "67/67 [==============================] - 15s 230ms/step - loss: 0.3801 - accuracy: 0.8172 - val_loss: 0.4325 - val_accuracy: 0.7729\n",
            "Epoch 7/10\n",
            "67/67 [==============================] - 16s 232ms/step - loss: 0.3820 - accuracy: 0.8171 - val_loss: 0.4898 - val_accuracy: 0.7469\n",
            "Epoch 8/10\n",
            "67/67 [==============================] - 16s 233ms/step - loss: 0.3608 - accuracy: 0.8278 - val_loss: 0.4162 - val_accuracy: 0.7802\n",
            "Epoch 9/10\n",
            "67/67 [==============================] - 16s 233ms/step - loss: 0.3699 - accuracy: 0.8283 - val_loss: 0.4134 - val_accuracy: 0.7792\n",
            "Epoch 10/10\n",
            "67/67 [==============================] - 16s 236ms/step - loss: 0.3506 - accuracy: 0.8348 - val_loss: 0.4111 - val_accuracy: 0.7896\n"
          ]
        },
        {
          "data": {
            "text/plain": [
              "<keras.callbacks.History at 0x211a580b5b0>"
            ]
          },
          "execution_count": 217,
          "metadata": {},
          "output_type": "execute_result"
        }
      ],
      "source": [
        "teacher_model.fit(train_generator,\n",
        "                    steps_per_epoch=train_generator.n // BATCH_SIZE,\n",
        "                    epochs=10,                  \n",
        "                    shuffle = True,\n",
        "                    verbose=1,\n",
        "                    validation_data=test_generator,\n",
        "                    validation_steps=test_generator.n // BATCH_SIZE,)"
      ]
    },
    {
      "cell_type": "code",
      "execution_count": 218,
      "metadata": {},
      "outputs": [],
      "source": [
        "teacher_model.save(r'D:\\Github Repos\\ECE1512\\-ECE1512_2022W_ProjectRepo_StephanieDiNunzio\\Project B\\Project_B_Supp\\models\\mhist_model_init.h5')"
      ]
    },
    {
      "cell_type": "code",
      "execution_count": 220,
      "metadata": {},
      "outputs": [],
      "source": [
        "resnet.trainable = True\n",
        "\n",
        "LEARNING_RATE = 0.0001\n",
        "teacher_model.compile(optimizer=tf.keras.optimizers.Adam(learning_rate=LEARNING_RATE),\n",
        "              loss=tf.keras.losses.BinaryCrossentropy(from_logits=True),\n",
        "              metrics=['accuracy'])"
      ]
    },
    {
      "cell_type": "code",
      "execution_count": null,
      "metadata": {},
      "outputs": [],
      "source": [
        "teacher_model.fit(train_generator,\n",
        "                    steps_per_epoch=train_generator.n // BATCH_SIZE,\n",
        "                    epochs=25,                  \n",
        "                    shuffle = True,\n",
        "                    verbose=1,\n",
        "                    validation_data=test_generator,\n",
        "                    validation_steps=test_generator.n // BATCH_SIZE,)"
      ]
    },
    {
      "cell_type": "code",
      "execution_count": null,
      "metadata": {},
      "outputs": [
        {
          "name": "stderr",
          "output_type": "stream",
          "text": [
            "C:\\Users\\Stephanie\\anaconda3\\envs\\ece1512\\lib\\site-packages\\keras\\utils\\generic_utils.py:494: CustomMaskWarning: Custom mask layers require a config and must override get_config. When loading, the custom mask layer must be passed to the custom_objects argument.\n",
            "  warnings.warn('Custom mask layers require a config and must override '\n"
          ]
        }
      ],
      "source": [
        "teacher_model.save(r'D:\\Github Repos\\ECE1512\\-ECE1512_2022W_ProjectRepo_StephanieDiNunzio\\Project B\\Project_B_Supp\\models\\mhist_model.h5')"
      ]
    },
    {
      "cell_type": "code",
      "execution_count": 223,
      "metadata": {},
      "outputs": [
        {
          "name": "stdout",
          "output_type": "stream",
          "text": [
            "Evaluate on test data\n",
            "test loss, test acc: [0.34587690234184265, 0.8526100516319275]\n"
          ]
        }
      ],
      "source": [
        "print(\"Evaluate on test data\")\n",
        "results = teacher_model.evaluate_generator(generator=test_generator)\n",
        "print(\"test loss, test acc:\", results)"
      ]
    },
    {
      "cell_type": "code",
      "execution_count": 238,
      "metadata": {},
      "outputs": [
        {
          "name": "stdout",
          "output_type": "stream",
          "text": [
            "WARNING:tensorflow:`input_shape` is undefined or non-square, or `rows` is not in [96, 128, 160, 192, 224]. Weights for input shape (224, 224) will be loaded as the default.\n",
            "Model: \"model_19\"\n",
            "_________________________________________________________________\n",
            "Layer (type)                 Output Shape              Param #   \n",
            "=================================================================\n",
            "input_66 (InputLayer)        [(None, 244, 244, 3)]     0         \n",
            "_________________________________________________________________\n",
            "mobilenetv2_1.00_224 (Functi (None, 8, 8, 1280)        2257984   \n",
            "_________________________________________________________________\n",
            "global_average_pooling2d_27  (None, 1280)              0         \n",
            "_________________________________________________________________\n",
            "dense_61 (Dense)             (None, 1)                 1281      \n",
            "=================================================================\n",
            "Total params: 2,259,265\n",
            "Trainable params: 1,281\n",
            "Non-trainable params: 2,257,984\n",
            "_________________________________________________________________\n"
          ]
        }
      ],
      "source": [
        "\n",
        "\n",
        "# Build student. NO KD\n",
        "\n",
        "mobilenet = tf.keras.applications.mobilenet_v2.MobileNetV2(input_shape=(244,244,3), weights='imagenet', include_top=False)\n",
        "mobilenet.trainable = False\n",
        "\n",
        "inputs2 = keras.Input(shape=(244,244,3))\n",
        "y = mobilenet(inputs2, training=False)\n",
        "y= layers.GlobalAveragePooling2D()(y)\n",
        "outputs2 = layers.Dense(1)(y)\n",
        "\n",
        "student_model = keras.Model(inputs2, outputs2)\n",
        "student_model.summary()\n",
        "\n",
        "\n",
        "# \n",
        "\n",
        "LEARNING_RATE = 0.01\n",
        "student_model.compile(optimizer=tf.keras.optimizers.Adam(learning_rate=LEARNING_RATE),\n",
        "              loss=tf.keras.losses.BinaryCrossentropy(from_logits=True),\n",
        "              metrics=['accuracy'])"
      ]
    },
    {
      "cell_type": "code",
      "execution_count": 239,
      "metadata": {},
      "outputs": [
        {
          "name": "stdout",
          "output_type": "stream",
          "text": [
            "Epoch 1/10\n",
            "67/67 [==============================] - 18s 244ms/step - loss: 0.5516 - accuracy: 0.7639 - val_loss: 0.5844 - val_accuracy: 0.7375\n",
            "Epoch 2/10\n",
            "67/67 [==============================] - 16s 232ms/step - loss: 0.4220 - accuracy: 0.8138 - val_loss: 0.5751 - val_accuracy: 0.7365\n",
            "Epoch 3/10\n",
            "67/67 [==============================] - 15s 230ms/step - loss: 0.4330 - accuracy: 0.8124 - val_loss: 0.5395 - val_accuracy: 0.7573\n",
            "Epoch 4/10\n",
            "67/67 [==============================] - 15s 231ms/step - loss: 0.3981 - accuracy: 0.8176 - val_loss: 0.5381 - val_accuracy: 0.7260\n",
            "Epoch 5/10\n",
            "67/67 [==============================] - 15s 230ms/step - loss: 0.4085 - accuracy: 0.8143 - val_loss: 0.5008 - val_accuracy: 0.7615\n",
            "Epoch 6/10\n",
            "67/67 [==============================] - 16s 238ms/step - loss: 0.4214 - accuracy: 0.8110 - val_loss: 0.5759 - val_accuracy: 0.7250\n",
            "Epoch 7/10\n",
            "67/67 [==============================] - 15s 231ms/step - loss: 0.4038 - accuracy: 0.8147 - val_loss: 0.6306 - val_accuracy: 0.7146\n",
            "Epoch 8/10\n",
            "67/67 [==============================] - 16s 232ms/step - loss: 0.4552 - accuracy: 0.8082 - val_loss: 0.6518 - val_accuracy: 0.7250\n",
            "Epoch 9/10\n",
            "67/67 [==============================] - 15s 230ms/step - loss: 0.4073 - accuracy: 0.8241 - val_loss: 0.5505 - val_accuracy: 0.7594\n",
            "Epoch 10/10\n",
            "67/67 [==============================] - 15s 229ms/step - loss: 0.4078 - accuracy: 0.8185 - val_loss: 0.5925 - val_accuracy: 0.7365\n"
          ]
        },
        {
          "data": {
            "text/plain": [
              "<keras.callbacks.History at 0x211c712cb20>"
            ]
          },
          "execution_count": 239,
          "metadata": {},
          "output_type": "execute_result"
        }
      ],
      "source": [
        "student_model.fit(train_generator,\n",
        "                    steps_per_epoch=train_generator.n // BATCH_SIZE,\n",
        "                    epochs=10,                  \n",
        "                    shuffle = True,\n",
        "                    verbose=1,\n",
        "                    validation_data=test_generator,\n",
        "                    validation_steps=test_generator.n // BATCH_SIZE,)"
      ]
    },
    {
      "cell_type": "code",
      "execution_count": 208,
      "metadata": {},
      "outputs": [
        {
          "name": "stderr",
          "output_type": "stream",
          "text": [
            "C:\\Users\\Stephanie\\anaconda3\\envs\\ece1512\\lib\\site-packages\\keras\\utils\\generic_utils.py:494: CustomMaskWarning: Custom mask layers require a config and must override get_config. When loading, the custom mask layer must be passed to the custom_objects argument.\n",
            "  warnings.warn('Custom mask layers require a config and must override '\n"
          ]
        }
      ],
      "source": [
        "student_model.save(r'D:\\Github Repos\\ECE1512\\-ECE1512_2022W_ProjectRepo_StephanieDiNunzio\\Project B\\Project_B_Supp\\models\\mhist_model_stu_init.h5')"
      ]
    },
    {
      "cell_type": "code",
      "execution_count": 240,
      "metadata": {},
      "outputs": [],
      "source": [
        "mobilenet.trainable = True\n",
        "\n",
        "LEARNING_RATE = 0.02\n",
        "student_model.compile(optimizer=tf.keras.optimizers.Adam(learning_rate=LEARNING_RATE),\n",
        "              loss=tf.keras.losses.BinaryCrossentropy(from_logits=True),\n",
        "              metrics=['accuracy'])"
      ]
    },
    {
      "cell_type": "code",
      "execution_count": 242,
      "metadata": {},
      "outputs": [
        {
          "name": "stdout",
          "output_type": "stream",
          "text": [
            "Epoch 1/25\n",
            "67/67 [==============================] - 15s 229ms/step - loss: 2.4212 - accuracy: 0.6020 - val_loss: 1.6603 - val_accuracy: 0.6427\n",
            "Epoch 2/25\n",
            "67/67 [==============================] - 16s 237ms/step - loss: 4.9245 - accuracy: 0.5894 - val_loss: 5.8128 - val_accuracy: 0.6427\n",
            "Epoch 3/25\n",
            "67/67 [==============================] - 16s 233ms/step - loss: 6.3873 - accuracy: 0.5875 - val_loss: 7.1470 - val_accuracy: 0.6427\n",
            "Epoch 4/25\n",
            "21/67 [========>.....................] - ETA: 10s - loss: 8.5889 - accuracy: 0.5863"
          ]
        },
        {
          "ename": "KeyboardInterrupt",
          "evalue": "",
          "output_type": "error",
          "traceback": [
            "\u001b[1;31m---------------------------------------------------------------------------\u001b[0m",
            "\u001b[1;31mKeyboardInterrupt\u001b[0m                         Traceback (most recent call last)",
            "\u001b[1;32md:\\Github Repos\\ECE1512\\-ECE1512_2022W_ProjectRepo_StephanieDiNunzio\\Project B\\Project_B_Supp\\Task2.ipynb Cell 24'\u001b[0m in \u001b[0;36m<module>\u001b[1;34m\u001b[0m\n\u001b[1;32m----> <a href='vscode-notebook-cell:/d%3A/Github%20Repos/ECE1512/-ECE1512_2022W_ProjectRepo_StephanieDiNunzio/Project%20B/Project_B_Supp/Task2.ipynb#ch0000035?line=0'>1</a>\u001b[0m student_model\u001b[39m.\u001b[39;49mfit(train_generator,\n\u001b[0;32m      <a href='vscode-notebook-cell:/d%3A/Github%20Repos/ECE1512/-ECE1512_2022W_ProjectRepo_StephanieDiNunzio/Project%20B/Project_B_Supp/Task2.ipynb#ch0000035?line=1'>2</a>\u001b[0m                     steps_per_epoch\u001b[39m=\u001b[39;49mtrain_generator\u001b[39m.\u001b[39;49mn \u001b[39m/\u001b[39;49m\u001b[39m/\u001b[39;49m BATCH_SIZE,\n\u001b[0;32m      <a href='vscode-notebook-cell:/d%3A/Github%20Repos/ECE1512/-ECE1512_2022W_ProjectRepo_StephanieDiNunzio/Project%20B/Project_B_Supp/Task2.ipynb#ch0000035?line=2'>3</a>\u001b[0m                     epochs\u001b[39m=\u001b[39;49m\u001b[39m25\u001b[39;49m,                  \n\u001b[0;32m      <a href='vscode-notebook-cell:/d%3A/Github%20Repos/ECE1512/-ECE1512_2022W_ProjectRepo_StephanieDiNunzio/Project%20B/Project_B_Supp/Task2.ipynb#ch0000035?line=3'>4</a>\u001b[0m                     shuffle \u001b[39m=\u001b[39;49m \u001b[39mTrue\u001b[39;49;00m,\n\u001b[0;32m      <a href='vscode-notebook-cell:/d%3A/Github%20Repos/ECE1512/-ECE1512_2022W_ProjectRepo_StephanieDiNunzio/Project%20B/Project_B_Supp/Task2.ipynb#ch0000035?line=4'>5</a>\u001b[0m                     verbose\u001b[39m=\u001b[39;49m\u001b[39m1\u001b[39;49m,\n\u001b[0;32m      <a href='vscode-notebook-cell:/d%3A/Github%20Repos/ECE1512/-ECE1512_2022W_ProjectRepo_StephanieDiNunzio/Project%20B/Project_B_Supp/Task2.ipynb#ch0000035?line=5'>6</a>\u001b[0m                     validation_data\u001b[39m=\u001b[39;49mtest_generator,\n\u001b[0;32m      <a href='vscode-notebook-cell:/d%3A/Github%20Repos/ECE1512/-ECE1512_2022W_ProjectRepo_StephanieDiNunzio/Project%20B/Project_B_Supp/Task2.ipynb#ch0000035?line=6'>7</a>\u001b[0m                     validation_steps\u001b[39m=\u001b[39;49mtest_generator\u001b[39m.\u001b[39;49mn \u001b[39m/\u001b[39;49m\u001b[39m/\u001b[39;49m BATCH_SIZE)\n",
            "File \u001b[1;32m~\\anaconda3\\envs\\ece1512\\lib\\site-packages\\keras\\engine\\training.py:1184\u001b[0m, in \u001b[0;36mModel.fit\u001b[1;34m(self, x, y, batch_size, epochs, verbose, callbacks, validation_split, validation_data, shuffle, class_weight, sample_weight, initial_epoch, steps_per_epoch, validation_steps, validation_batch_size, validation_freq, max_queue_size, workers, use_multiprocessing)\u001b[0m\n\u001b[0;32m   <a href='file:///c%3A/Users/Stephanie/anaconda3/envs/ece1512/lib/site-packages/keras/engine/training.py?line=1176'>1177</a>\u001b[0m \u001b[39mwith\u001b[39;00m tf\u001b[39m.\u001b[39mprofiler\u001b[39m.\u001b[39mexperimental\u001b[39m.\u001b[39mTrace(\n\u001b[0;32m   <a href='file:///c%3A/Users/Stephanie/anaconda3/envs/ece1512/lib/site-packages/keras/engine/training.py?line=1177'>1178</a>\u001b[0m     \u001b[39m'\u001b[39m\u001b[39mtrain\u001b[39m\u001b[39m'\u001b[39m,\n\u001b[0;32m   <a href='file:///c%3A/Users/Stephanie/anaconda3/envs/ece1512/lib/site-packages/keras/engine/training.py?line=1178'>1179</a>\u001b[0m     epoch_num\u001b[39m=\u001b[39mepoch,\n\u001b[0;32m   <a href='file:///c%3A/Users/Stephanie/anaconda3/envs/ece1512/lib/site-packages/keras/engine/training.py?line=1179'>1180</a>\u001b[0m     step_num\u001b[39m=\u001b[39mstep,\n\u001b[0;32m   <a href='file:///c%3A/Users/Stephanie/anaconda3/envs/ece1512/lib/site-packages/keras/engine/training.py?line=1180'>1181</a>\u001b[0m     batch_size\u001b[39m=\u001b[39mbatch_size,\n\u001b[0;32m   <a href='file:///c%3A/Users/Stephanie/anaconda3/envs/ece1512/lib/site-packages/keras/engine/training.py?line=1181'>1182</a>\u001b[0m     _r\u001b[39m=\u001b[39m\u001b[39m1\u001b[39m):\n\u001b[0;32m   <a href='file:///c%3A/Users/Stephanie/anaconda3/envs/ece1512/lib/site-packages/keras/engine/training.py?line=1182'>1183</a>\u001b[0m   callbacks\u001b[39m.\u001b[39mon_train_batch_begin(step)\n\u001b[1;32m-> <a href='file:///c%3A/Users/Stephanie/anaconda3/envs/ece1512/lib/site-packages/keras/engine/training.py?line=1183'>1184</a>\u001b[0m   tmp_logs \u001b[39m=\u001b[39m \u001b[39mself\u001b[39;49m\u001b[39m.\u001b[39;49mtrain_function(iterator)\n\u001b[0;32m   <a href='file:///c%3A/Users/Stephanie/anaconda3/envs/ece1512/lib/site-packages/keras/engine/training.py?line=1184'>1185</a>\u001b[0m   \u001b[39mif\u001b[39;00m data_handler\u001b[39m.\u001b[39mshould_sync:\n\u001b[0;32m   <a href='file:///c%3A/Users/Stephanie/anaconda3/envs/ece1512/lib/site-packages/keras/engine/training.py?line=1185'>1186</a>\u001b[0m     context\u001b[39m.\u001b[39masync_wait()\n",
            "File \u001b[1;32m~\\anaconda3\\envs\\ece1512\\lib\\site-packages\\tensorflow\\python\\eager\\def_function.py:885\u001b[0m, in \u001b[0;36mFunction.__call__\u001b[1;34m(self, *args, **kwds)\u001b[0m\n\u001b[0;32m    <a href='file:///c%3A/Users/Stephanie/anaconda3/envs/ece1512/lib/site-packages/tensorflow/python/eager/def_function.py?line=881'>882</a>\u001b[0m compiler \u001b[39m=\u001b[39m \u001b[39m\"\u001b[39m\u001b[39mxla\u001b[39m\u001b[39m\"\u001b[39m \u001b[39mif\u001b[39;00m \u001b[39mself\u001b[39m\u001b[39m.\u001b[39m_jit_compile \u001b[39melse\u001b[39;00m \u001b[39m\"\u001b[39m\u001b[39mnonXla\u001b[39m\u001b[39m\"\u001b[39m\n\u001b[0;32m    <a href='file:///c%3A/Users/Stephanie/anaconda3/envs/ece1512/lib/site-packages/tensorflow/python/eager/def_function.py?line=883'>884</a>\u001b[0m \u001b[39mwith\u001b[39;00m OptionalXlaContext(\u001b[39mself\u001b[39m\u001b[39m.\u001b[39m_jit_compile):\n\u001b[1;32m--> <a href='file:///c%3A/Users/Stephanie/anaconda3/envs/ece1512/lib/site-packages/tensorflow/python/eager/def_function.py?line=884'>885</a>\u001b[0m   result \u001b[39m=\u001b[39m \u001b[39mself\u001b[39m\u001b[39m.\u001b[39m_call(\u001b[39m*\u001b[39margs, \u001b[39m*\u001b[39m\u001b[39m*\u001b[39mkwds)\n\u001b[0;32m    <a href='file:///c%3A/Users/Stephanie/anaconda3/envs/ece1512/lib/site-packages/tensorflow/python/eager/def_function.py?line=886'>887</a>\u001b[0m new_tracing_count \u001b[39m=\u001b[39m \u001b[39mself\u001b[39m\u001b[39m.\u001b[39mexperimental_get_tracing_count()\n\u001b[0;32m    <a href='file:///c%3A/Users/Stephanie/anaconda3/envs/ece1512/lib/site-packages/tensorflow/python/eager/def_function.py?line=887'>888</a>\u001b[0m without_tracing \u001b[39m=\u001b[39m (tracing_count \u001b[39m==\u001b[39m new_tracing_count)\n",
            "File \u001b[1;32m~\\anaconda3\\envs\\ece1512\\lib\\site-packages\\tensorflow\\python\\eager\\def_function.py:917\u001b[0m, in \u001b[0;36mFunction._call\u001b[1;34m(self, *args, **kwds)\u001b[0m\n\u001b[0;32m    <a href='file:///c%3A/Users/Stephanie/anaconda3/envs/ece1512/lib/site-packages/tensorflow/python/eager/def_function.py?line=913'>914</a>\u001b[0m   \u001b[39mself\u001b[39m\u001b[39m.\u001b[39m_lock\u001b[39m.\u001b[39mrelease()\n\u001b[0;32m    <a href='file:///c%3A/Users/Stephanie/anaconda3/envs/ece1512/lib/site-packages/tensorflow/python/eager/def_function.py?line=914'>915</a>\u001b[0m   \u001b[39m# In this case we have created variables on the first call, so we run the\u001b[39;00m\n\u001b[0;32m    <a href='file:///c%3A/Users/Stephanie/anaconda3/envs/ece1512/lib/site-packages/tensorflow/python/eager/def_function.py?line=915'>916</a>\u001b[0m   \u001b[39m# defunned version which is guaranteed to never create variables.\u001b[39;00m\n\u001b[1;32m--> <a href='file:///c%3A/Users/Stephanie/anaconda3/envs/ece1512/lib/site-packages/tensorflow/python/eager/def_function.py?line=916'>917</a>\u001b[0m   \u001b[39mreturn\u001b[39;00m \u001b[39mself\u001b[39m\u001b[39m.\u001b[39m_stateless_fn(\u001b[39m*\u001b[39margs, \u001b[39m*\u001b[39m\u001b[39m*\u001b[39mkwds)  \u001b[39m# pylint: disable=not-callable\u001b[39;00m\n\u001b[0;32m    <a href='file:///c%3A/Users/Stephanie/anaconda3/envs/ece1512/lib/site-packages/tensorflow/python/eager/def_function.py?line=917'>918</a>\u001b[0m \u001b[39melif\u001b[39;00m \u001b[39mself\u001b[39m\u001b[39m.\u001b[39m_stateful_fn \u001b[39mis\u001b[39;00m \u001b[39mnot\u001b[39;00m \u001b[39mNone\u001b[39;00m:\n\u001b[0;32m    <a href='file:///c%3A/Users/Stephanie/anaconda3/envs/ece1512/lib/site-packages/tensorflow/python/eager/def_function.py?line=918'>919</a>\u001b[0m   \u001b[39m# Release the lock early so that multiple threads can perform the call\u001b[39;00m\n\u001b[0;32m    <a href='file:///c%3A/Users/Stephanie/anaconda3/envs/ece1512/lib/site-packages/tensorflow/python/eager/def_function.py?line=919'>920</a>\u001b[0m   \u001b[39m# in parallel.\u001b[39;00m\n\u001b[0;32m    <a href='file:///c%3A/Users/Stephanie/anaconda3/envs/ece1512/lib/site-packages/tensorflow/python/eager/def_function.py?line=920'>921</a>\u001b[0m   \u001b[39mself\u001b[39m\u001b[39m.\u001b[39m_lock\u001b[39m.\u001b[39mrelease()\n",
            "File \u001b[1;32m~\\anaconda3\\envs\\ece1512\\lib\\site-packages\\tensorflow\\python\\eager\\function.py:3039\u001b[0m, in \u001b[0;36mFunction.__call__\u001b[1;34m(self, *args, **kwargs)\u001b[0m\n\u001b[0;32m   <a href='file:///c%3A/Users/Stephanie/anaconda3/envs/ece1512/lib/site-packages/tensorflow/python/eager/function.py?line=3035'>3036</a>\u001b[0m \u001b[39mwith\u001b[39;00m \u001b[39mself\u001b[39m\u001b[39m.\u001b[39m_lock:\n\u001b[0;32m   <a href='file:///c%3A/Users/Stephanie/anaconda3/envs/ece1512/lib/site-packages/tensorflow/python/eager/function.py?line=3036'>3037</a>\u001b[0m   (graph_function,\n\u001b[0;32m   <a href='file:///c%3A/Users/Stephanie/anaconda3/envs/ece1512/lib/site-packages/tensorflow/python/eager/function.py?line=3037'>3038</a>\u001b[0m    filtered_flat_args) \u001b[39m=\u001b[39m \u001b[39mself\u001b[39m\u001b[39m.\u001b[39m_maybe_define_function(args, kwargs)\n\u001b[1;32m-> <a href='file:///c%3A/Users/Stephanie/anaconda3/envs/ece1512/lib/site-packages/tensorflow/python/eager/function.py?line=3038'>3039</a>\u001b[0m \u001b[39mreturn\u001b[39;00m graph_function\u001b[39m.\u001b[39;49m_call_flat(\n\u001b[0;32m   <a href='file:///c%3A/Users/Stephanie/anaconda3/envs/ece1512/lib/site-packages/tensorflow/python/eager/function.py?line=3039'>3040</a>\u001b[0m     filtered_flat_args, captured_inputs\u001b[39m=\u001b[39;49mgraph_function\u001b[39m.\u001b[39;49mcaptured_inputs)\n",
            "File \u001b[1;32m~\\anaconda3\\envs\\ece1512\\lib\\site-packages\\tensorflow\\python\\eager\\function.py:1963\u001b[0m, in \u001b[0;36mConcreteFunction._call_flat\u001b[1;34m(self, args, captured_inputs, cancellation_manager)\u001b[0m\n\u001b[0;32m   <a href='file:///c%3A/Users/Stephanie/anaconda3/envs/ece1512/lib/site-packages/tensorflow/python/eager/function.py?line=1958'>1959</a>\u001b[0m possible_gradient_type \u001b[39m=\u001b[39m gradients_util\u001b[39m.\u001b[39mPossibleTapeGradientTypes(args)\n\u001b[0;32m   <a href='file:///c%3A/Users/Stephanie/anaconda3/envs/ece1512/lib/site-packages/tensorflow/python/eager/function.py?line=1959'>1960</a>\u001b[0m \u001b[39mif\u001b[39;00m (possible_gradient_type \u001b[39m==\u001b[39m gradients_util\u001b[39m.\u001b[39mPOSSIBLE_GRADIENT_TYPES_NONE\n\u001b[0;32m   <a href='file:///c%3A/Users/Stephanie/anaconda3/envs/ece1512/lib/site-packages/tensorflow/python/eager/function.py?line=1960'>1961</a>\u001b[0m     \u001b[39mand\u001b[39;00m executing_eagerly):\n\u001b[0;32m   <a href='file:///c%3A/Users/Stephanie/anaconda3/envs/ece1512/lib/site-packages/tensorflow/python/eager/function.py?line=1961'>1962</a>\u001b[0m   \u001b[39m# No tape is watching; skip to running the function.\u001b[39;00m\n\u001b[1;32m-> <a href='file:///c%3A/Users/Stephanie/anaconda3/envs/ece1512/lib/site-packages/tensorflow/python/eager/function.py?line=1962'>1963</a>\u001b[0m   \u001b[39mreturn\u001b[39;00m \u001b[39mself\u001b[39m\u001b[39m.\u001b[39m_build_call_outputs(\u001b[39mself\u001b[39;49m\u001b[39m.\u001b[39;49m_inference_function\u001b[39m.\u001b[39;49mcall(\n\u001b[0;32m   <a href='file:///c%3A/Users/Stephanie/anaconda3/envs/ece1512/lib/site-packages/tensorflow/python/eager/function.py?line=1963'>1964</a>\u001b[0m       ctx, args, cancellation_manager\u001b[39m=\u001b[39;49mcancellation_manager))\n\u001b[0;32m   <a href='file:///c%3A/Users/Stephanie/anaconda3/envs/ece1512/lib/site-packages/tensorflow/python/eager/function.py?line=1964'>1965</a>\u001b[0m forward_backward \u001b[39m=\u001b[39m \u001b[39mself\u001b[39m\u001b[39m.\u001b[39m_select_forward_and_backward_functions(\n\u001b[0;32m   <a href='file:///c%3A/Users/Stephanie/anaconda3/envs/ece1512/lib/site-packages/tensorflow/python/eager/function.py?line=1965'>1966</a>\u001b[0m     args,\n\u001b[0;32m   <a href='file:///c%3A/Users/Stephanie/anaconda3/envs/ece1512/lib/site-packages/tensorflow/python/eager/function.py?line=1966'>1967</a>\u001b[0m     possible_gradient_type,\n\u001b[0;32m   <a href='file:///c%3A/Users/Stephanie/anaconda3/envs/ece1512/lib/site-packages/tensorflow/python/eager/function.py?line=1967'>1968</a>\u001b[0m     executing_eagerly)\n\u001b[0;32m   <a href='file:///c%3A/Users/Stephanie/anaconda3/envs/ece1512/lib/site-packages/tensorflow/python/eager/function.py?line=1968'>1969</a>\u001b[0m forward_function, args_with_tangents \u001b[39m=\u001b[39m forward_backward\u001b[39m.\u001b[39mforward()\n",
            "File \u001b[1;32m~\\anaconda3\\envs\\ece1512\\lib\\site-packages\\tensorflow\\python\\eager\\function.py:591\u001b[0m, in \u001b[0;36m_EagerDefinedFunction.call\u001b[1;34m(self, ctx, args, cancellation_manager)\u001b[0m\n\u001b[0;32m    <a href='file:///c%3A/Users/Stephanie/anaconda3/envs/ece1512/lib/site-packages/tensorflow/python/eager/function.py?line=588'>589</a>\u001b[0m \u001b[39mwith\u001b[39;00m _InterpolateFunctionError(\u001b[39mself\u001b[39m):\n\u001b[0;32m    <a href='file:///c%3A/Users/Stephanie/anaconda3/envs/ece1512/lib/site-packages/tensorflow/python/eager/function.py?line=589'>590</a>\u001b[0m   \u001b[39mif\u001b[39;00m cancellation_manager \u001b[39mis\u001b[39;00m \u001b[39mNone\u001b[39;00m:\n\u001b[1;32m--> <a href='file:///c%3A/Users/Stephanie/anaconda3/envs/ece1512/lib/site-packages/tensorflow/python/eager/function.py?line=590'>591</a>\u001b[0m     outputs \u001b[39m=\u001b[39m execute\u001b[39m.\u001b[39;49mexecute(\n\u001b[0;32m    <a href='file:///c%3A/Users/Stephanie/anaconda3/envs/ece1512/lib/site-packages/tensorflow/python/eager/function.py?line=591'>592</a>\u001b[0m         \u001b[39mstr\u001b[39;49m(\u001b[39mself\u001b[39;49m\u001b[39m.\u001b[39;49msignature\u001b[39m.\u001b[39;49mname),\n\u001b[0;32m    <a href='file:///c%3A/Users/Stephanie/anaconda3/envs/ece1512/lib/site-packages/tensorflow/python/eager/function.py?line=592'>593</a>\u001b[0m         num_outputs\u001b[39m=\u001b[39;49m\u001b[39mself\u001b[39;49m\u001b[39m.\u001b[39;49m_num_outputs,\n\u001b[0;32m    <a href='file:///c%3A/Users/Stephanie/anaconda3/envs/ece1512/lib/site-packages/tensorflow/python/eager/function.py?line=593'>594</a>\u001b[0m         inputs\u001b[39m=\u001b[39;49margs,\n\u001b[0;32m    <a href='file:///c%3A/Users/Stephanie/anaconda3/envs/ece1512/lib/site-packages/tensorflow/python/eager/function.py?line=594'>595</a>\u001b[0m         attrs\u001b[39m=\u001b[39;49mattrs,\n\u001b[0;32m    <a href='file:///c%3A/Users/Stephanie/anaconda3/envs/ece1512/lib/site-packages/tensorflow/python/eager/function.py?line=595'>596</a>\u001b[0m         ctx\u001b[39m=\u001b[39;49mctx)\n\u001b[0;32m    <a href='file:///c%3A/Users/Stephanie/anaconda3/envs/ece1512/lib/site-packages/tensorflow/python/eager/function.py?line=596'>597</a>\u001b[0m   \u001b[39melse\u001b[39;00m:\n\u001b[0;32m    <a href='file:///c%3A/Users/Stephanie/anaconda3/envs/ece1512/lib/site-packages/tensorflow/python/eager/function.py?line=597'>598</a>\u001b[0m     outputs \u001b[39m=\u001b[39m execute\u001b[39m.\u001b[39mexecute_with_cancellation(\n\u001b[0;32m    <a href='file:///c%3A/Users/Stephanie/anaconda3/envs/ece1512/lib/site-packages/tensorflow/python/eager/function.py?line=598'>599</a>\u001b[0m         \u001b[39mstr\u001b[39m(\u001b[39mself\u001b[39m\u001b[39m.\u001b[39msignature\u001b[39m.\u001b[39mname),\n\u001b[0;32m    <a href='file:///c%3A/Users/Stephanie/anaconda3/envs/ece1512/lib/site-packages/tensorflow/python/eager/function.py?line=599'>600</a>\u001b[0m         num_outputs\u001b[39m=\u001b[39m\u001b[39mself\u001b[39m\u001b[39m.\u001b[39m_num_outputs,\n\u001b[1;32m   (...)\u001b[0m\n\u001b[0;32m    <a href='file:///c%3A/Users/Stephanie/anaconda3/envs/ece1512/lib/site-packages/tensorflow/python/eager/function.py?line=602'>603</a>\u001b[0m         ctx\u001b[39m=\u001b[39mctx,\n\u001b[0;32m    <a href='file:///c%3A/Users/Stephanie/anaconda3/envs/ece1512/lib/site-packages/tensorflow/python/eager/function.py?line=603'>604</a>\u001b[0m         cancellation_manager\u001b[39m=\u001b[39mcancellation_manager)\n",
            "File \u001b[1;32m~\\anaconda3\\envs\\ece1512\\lib\\site-packages\\tensorflow\\python\\eager\\execute.py:59\u001b[0m, in \u001b[0;36mquick_execute\u001b[1;34m(op_name, num_outputs, inputs, attrs, ctx, name)\u001b[0m\n\u001b[0;32m     <a href='file:///c%3A/Users/Stephanie/anaconda3/envs/ece1512/lib/site-packages/tensorflow/python/eager/execute.py?line=56'>57</a>\u001b[0m \u001b[39mtry\u001b[39;00m:\n\u001b[0;32m     <a href='file:///c%3A/Users/Stephanie/anaconda3/envs/ece1512/lib/site-packages/tensorflow/python/eager/execute.py?line=57'>58</a>\u001b[0m   ctx\u001b[39m.\u001b[39mensure_initialized()\n\u001b[1;32m---> <a href='file:///c%3A/Users/Stephanie/anaconda3/envs/ece1512/lib/site-packages/tensorflow/python/eager/execute.py?line=58'>59</a>\u001b[0m   tensors \u001b[39m=\u001b[39m pywrap_tfe\u001b[39m.\u001b[39;49mTFE_Py_Execute(ctx\u001b[39m.\u001b[39;49m_handle, device_name, op_name,\n\u001b[0;32m     <a href='file:///c%3A/Users/Stephanie/anaconda3/envs/ece1512/lib/site-packages/tensorflow/python/eager/execute.py?line=59'>60</a>\u001b[0m                                       inputs, attrs, num_outputs)\n\u001b[0;32m     <a href='file:///c%3A/Users/Stephanie/anaconda3/envs/ece1512/lib/site-packages/tensorflow/python/eager/execute.py?line=60'>61</a>\u001b[0m \u001b[39mexcept\u001b[39;00m core\u001b[39m.\u001b[39m_NotOkStatusException \u001b[39mas\u001b[39;00m e:\n\u001b[0;32m     <a href='file:///c%3A/Users/Stephanie/anaconda3/envs/ece1512/lib/site-packages/tensorflow/python/eager/execute.py?line=61'>62</a>\u001b[0m   \u001b[39mif\u001b[39;00m name \u001b[39mis\u001b[39;00m \u001b[39mnot\u001b[39;00m \u001b[39mNone\u001b[39;00m:\n",
            "\u001b[1;31mKeyboardInterrupt\u001b[0m: "
          ]
        }
      ],
      "source": [
        "student_model.fit(train_generator,\n",
        "                    steps_per_epoch=train_generator.n // BATCH_SIZE,\n",
        "                    epochs=25,                  \n",
        "                    shuffle = True,\n",
        "                    verbose=1,\n",
        "                    validation_data=test_generator,\n",
        "                    validation_steps=test_generator.n // BATCH_SIZE)"
      ]
    },
    {
      "cell_type": "code",
      "execution_count": 213,
      "metadata": {},
      "outputs": [],
      "source": [
        "student_model.save(r'D:\\Github Repos\\ECE1512\\-ECE1512_2022W_ProjectRepo_StephanieDiNunzio\\Project B\\Project_B_Supp\\models\\mhist_model_stu_fine.h5')"
      ]
    },
    {
      "cell_type": "code",
      "execution_count": 214,
      "metadata": {},
      "outputs": [],
      "source": [
        "student_model = (r'D:\\Github Repos\\ECE1512\\-ECE1512_2022W_ProjectRepo_StephanieDiNunzio\\Project B\\Project_B_Supp\\models\\mhist_model_stu_fine.h5')"
      ]
    },
    {
      "cell_type": "code",
      "execution_count": 222,
      "metadata": {},
      "outputs": [],
      "source": [
        "teacher_model = keras.models.load_model(r'D:\\Github Repos\\ECE1512\\-ECE1512_2022W_ProjectRepo_StephanieDiNunzio\\Project B\\Project_B_Supp\\models\\mhist_model.h5')"
      ]
    },
    {
      "cell_type": "code",
      "execution_count": 9,
      "metadata": {},
      "outputs": [
        {
          "name": "stdout",
          "output_type": "stream",
          "text": [
            "0.9857\n"
          ]
        }
      ],
      "source": [
        "# Hyperparameters for distillation (need to be tuned).\n",
        "ALPHA = 0.5 # task balance between cross-entropy and distillation loss\n",
        "DISTILLATION_TEMPERATURE = 2.5 #temperature hyperparameter\n",
        "\n",
        "\n",
        "# Build student.\n",
        "\n",
        "mobilenet2 = tf.keras.applications.mobilenet_v2.MobileNetV2(input_shape=(244,244,3), weights='imagenet', include_top=False)\n",
        "mobilenet2.trainable = False\n",
        "\n",
        "inputs3 = keras.Input(shape=(244,244,3))\n",
        "z = mobilenet(inputs3, training=False)\n",
        "z= layers.GlobalAveragePooling2D()(z)\n",
        "outputs3 = layers.Dense(1)(z)\n",
        "\n",
        "student_model_KD = keras.Model(inputs3, outputs3)\n",
        "student_model_KD.summary()\n",
        "\n",
        "\n",
        "# \n",
        "\n",
        "LEARNING_RATE = 0.001\n",
        "student_model.compile(optimizer=tf.keras.optimizers.Adam(learning_rate=LEARNING_RATE),\n",
        "              loss=tf.keras.losses.BinaryCrossentropy(from_logits=True),\n",
        "              metrics=['accuracy'])"
      ]
    }
  ],
  "metadata": {
    "colab": {
      "name": "Task1.ipynb",
      "provenance": []
    },
    "kernelspec": {
      "display_name": "Python 3",
      "name": "python3"
    },
    "language_info": {
      "codemirror_mode": {
        "name": "ipython",
        "version": 3
      },
      "file_extension": ".py",
      "mimetype": "text/x-python",
      "name": "python",
      "nbconvert_exporter": "python",
      "pygments_lexer": "ipython3",
      "version": "3.9.7"
    }
  },
  "nbformat": 4,
  "nbformat_minor": 0
}
