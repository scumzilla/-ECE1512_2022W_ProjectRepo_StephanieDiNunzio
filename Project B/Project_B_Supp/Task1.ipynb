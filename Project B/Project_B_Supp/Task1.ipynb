{
  "cells": [
    {
      "cell_type": "markdown",
      "metadata": {
        "id": "6WYMfvCNPwpm"
      },
      "source": [
        "# Project B: Knowledge Distillation for Building Lightweight Deep Learning Models in Visual Classification Tasks"
      ]
    },
    {
      "cell_type": "code",
      "execution_count": 1,
      "metadata": {
        "id": "vA8ppgB2P0aJ"
      },
      "outputs": [
        {
          "name": "stderr",
          "output_type": "stream",
          "text": [
            "C:\\Users\\Stephanie\\anaconda3\\envs\\ece1512\\lib\\site-packages\\tqdm\\auto.py:22: TqdmWarning: IProgress not found. Please update jupyter and ipywidgets. See https://ipywidgets.readthedocs.io/en/stable/user_install.html\n",
            "  from .autonotebook import tqdm as notebook_tqdm\n"
          ]
        }
      ],
      "source": [
        "import tensorflow.compat.v2 as tf\n",
        "import tensorflow_datasets as tfds\n",
        "from typing import Union\n",
        "\n",
        "tf.enable_v2_behavior()\n",
        "\n",
        "builder = tfds.builder('mnist')\n",
        "BATCH_SIZE = 256\n",
        "NUM_EPOCHS = 12\n",
        "NUM_CLASSES = 10  # 10 total classes."
      ]
    },
    {
      "cell_type": "markdown",
      "metadata": {
        "id": "H2EFLQROP2R7"
      },
      "source": [
        "# Data loading"
      ]
    },
    {
      "cell_type": "code",
      "execution_count": 2,
      "metadata": {
        "id": "ynByMG_UP4A4"
      },
      "outputs": [],
      "source": [
        "# Load train and test splits.\n",
        "def preprocess(x):\n",
        "  image = tf.image.convert_image_dtype(x['image'], tf.float32)\n",
        "  class_labels = tf.one_hot(x['label'], builder.info.features['label'].num_classes)\n",
        "  return image, class_labels\n",
        "\n",
        "\n",
        "mnist_train = tfds.load('mnist', split='train', shuffle_files=False).cache()\n",
        "mnist_train = mnist_train.map(preprocess)\n",
        "mnist_train = mnist_train.shuffle(builder.info.splits['train'].num_examples)\n",
        "mnist_train = mnist_train.batch(BATCH_SIZE, drop_remainder=True)\n",
        "\n",
        "mnist_test = tfds.load('mnist', split='test').cache()\n",
        "mnist_test = mnist_test.map(preprocess).batch(BATCH_SIZE)"
      ]
    },
    {
      "cell_type": "markdown",
      "metadata": {
        "id": "kAZwfvW5P63q"
      },
      "source": [
        "# Model creation"
      ]
    },
    {
      "cell_type": "code",
      "execution_count": 3,
      "metadata": {
        "id": "zINgDkA7P7BP"
      },
      "outputs": [],
      "source": [
        "#@test {\"output\": \"ignore\"}\n",
        "\n",
        "# Build CNN teacher.\n",
        "cnn_model = tf.keras.Sequential()\n",
        "\n",
        "# your code start from here for stpe 2\n",
        "from tensorflow.keras import layers\n",
        " \n",
        "cnn_model.add(layers.Conv2D(32,3,strides=1,padding='same',activation='relu',input_shape=(28,28,1)))\n",
        "cnn_model.add(layers.MaxPool2D(pool_size=(2,2),strides=1))\n",
        "cnn_model.add(layers.Conv2D(64,3,strides=1,padding='same',activation='relu'))\n",
        "cnn_model.add(layers.MaxPool2D(pool_size=(2,2),strides=2))\n",
        "cnn_model.add(layers.Flatten())\n",
        "cnn_model.add(layers.Dropout(0.5))\n",
        "cnn_model.add(layers.Dense(128,activation='relu'))\n",
        "cnn_model.add(layers.Dropout(0.5))\n",
        "cnn_model.add(layers.Dense(128,activation='relu'))\n",
        "cnn_model.add(layers.Dropout(0.5))\n",
        "cnn_model.add(layers.Dense(NUM_CLASSES))\n",
        "##\n",
        "\n",
        "#cnn_model.summary()\n",
        "\n",
        "\n",
        "# Build fully connected student.\n",
        "fc_model = tf.keras.Sequential()\n",
        "\n",
        "# your code start from here for step 2\n",
        "\n",
        "fc_model.add(layers.Flatten())\n",
        "fc_model.add(layers.Dense(784,activation='relu'))\n",
        "fc_model.add(layers.Dense(784,activation='relu'))\n",
        "fc_model.add(layers.Dense(NUM_CLASSES))\n"
      ]
    },
    {
      "cell_type": "markdown",
      "metadata": {
        "id": "8JWGucyrQGav"
      },
      "source": [
        "# Teacher loss function"
      ]
    },
    {
      "cell_type": "code",
      "execution_count": 4,
      "metadata": {
        "id": "DhzBP6ZLQJ57"
      },
      "outputs": [],
      "source": [
        "import keras\n",
        "import numpy as np\n",
        "@tf.function\n",
        "def compute_teacher_loss(images, labels):\n",
        "  \"\"\"Compute class knowledge distillation teacher loss for given images\n",
        "     and labels.\n",
        "\n",
        "  Args:\n",
        "    images: Tensor representing a batch of images.\n",
        "    labels: Tensor representing a batch of labels.\n",
        "\n",
        "  Returns:\n",
        "    Scalar loss Tensor.\n",
        "  \"\"\"\n",
        "  class_logits = cnn_model(images, training=True)\n",
        "\n",
        "  # Compute cross-entropy loss for classes.\n",
        "\n",
        "  # your code start from here for step 3\n",
        " \n",
        "  loss = keras.losses.CategoricalCrossentropy(from_logits=True)\n",
        "  \n",
        "  cross_entropy_loss_value = loss(labels,class_logits)\n",
        "\n",
        "\n",
        "  return cross_entropy_loss_value\n"
      ]
    },
    {
      "cell_type": "markdown",
      "metadata": {
        "id": "JS8xkuH0QbOS"
      },
      "source": [
        "# Student loss function"
      ]
    },
    {
      "cell_type": "code",
      "execution_count": 5,
      "metadata": {
        "id": "lDKia4gPQMIr"
      },
      "outputs": [],
      "source": [
        "#@test {\"output\": \"ignore\"}\n",
        "\n",
        "# Hyperparameters for distillation (need to be tuned).\n",
        "ALPHA = 0.5 # task balance between cross-entropy and distillation loss\n",
        "DISTILLATION_TEMPERATURE = 4. #temperature hyperparameter\n",
        "\n",
        "def distillation_loss(teacher_logits: tf.Tensor, student_logits: tf.Tensor,\n",
        "                      temperature: Union[float, tf.Tensor]):\n",
        "  \"\"\"Compute distillation loss.\n",
        "\n",
        "  This function computes cross entropy between softened logits and softened\n",
        "  targets. The resulting loss is scaled by the squared temperature so that\n",
        "  the gradient magnitude remains approximately constant as the temperature is\n",
        "  changed. For reference, see Hinton et al., 2014, \"Distilling the knowledge in\n",
        "  a neural network.\"\n",
        "\n",
        "  Args:\n",
        "    teacher_logits: A Tensor of logits provided by the teacher.\n",
        "    student_logits: A Tensor of logits provided by the student, of the same\n",
        "      shape as `teacher_logits`.\n",
        "    temperature: Temperature to use for distillation.\n",
        "\n",
        "  Returns:\n",
        "    A scalar Tensor containing the distillation loss.\n",
        "  \"\"\"\n",
        " # your code start from here for step 3\n",
        "  soft_targets = tf.nn.softmax(teacher_logits)\n",
        "\n",
        "  return tf.reduce_mean(\n",
        "      tf.nn.softmax_cross_entropy_with_logits(\n",
        "          soft_targets, student_logits / temperature)) * temperature ** 2\n",
        "\n",
        "def compute_student_loss(images, labels):\n",
        "  \"\"\"Compute class knowledge distillation student loss for given images\n",
        "     and labels.\n",
        "\n",
        "  Args:\n",
        "    images: Tensor representing a batch of images.\n",
        "    labels: Tensor representing a batch of labels.\n",
        "\n",
        "  Returns:\n",
        "    Scalar loss Tensor.\n",
        "  \"\"\"\n",
        "  student_class_logits = fc_model(images, training=True)\n",
        "\n",
        "  # Compute class distillation loss between student class logits and\n",
        "  # softened teacher class targets probabilities.\n",
        "\n",
        "  # your code start from here for step 3\n",
        "\n",
        "  teacher_class_logits = cnn_model(images, training=False)\n",
        "  distillation_loss_value = distillation_loss(teacher_class_logits, student_class_logits, DISTILLATION_TEMPERATURE)\n",
        "\n",
        "  # Compute cross-entropy loss with hard targets.\n",
        "\n",
        "  # your code start from here for step 3\n",
        "  loss = keras.losses.CategoricalCrossentropy(from_logits=True)\n",
        "  \n",
        "  cross_entropy_loss_value = loss(labels,student_class_logits).numpy()\n",
        "\n",
        "  return ALPHA*cross_entropy_loss_value + (1-ALPHA)*distillation_loss_value"
      ]
    },
    {
      "cell_type": "markdown",
      "metadata": {
        "id": "RJ1uyvurQ3w4"
      },
      "source": [
        "# Train and evaluation"
      ]
    },
    {
      "cell_type": "code",
      "execution_count": 6,
      "metadata": {
        "id": "EtoLbp8uQ4Vl"
      },
      "outputs": [],
      "source": [
        "@tf.function\n",
        "def compute_num_correct(model, images, labels):\n",
        "  \"\"\"Compute number of correctly classified images in a batch.\n",
        "\n",
        "  Args:\n",
        "    model: Instance of tf.keras.Model.\n",
        "    images: Tensor representing a batch of images.\n",
        "    labels: Tensor representing a batch of labels.\n",
        "\n",
        "  Returns:\n",
        "    Number of correctly classified images.\n",
        "  \"\"\"\n",
        "  class_logits = model(images, training=False)\n",
        "  return tf.reduce_sum(\n",
        "      tf.cast(tf.math.equal(tf.argmax(class_logits, -1), tf.argmax(labels, -1)),\n",
        "              tf.float32)), tf.argmax(class_logits, -1), tf.argmax(labels, -1)\n",
        "\n",
        "\n",
        "def train_and_evaluate(model, compute_loss_fn):\n",
        "  \"\"\"Perform training and evaluation for a given model.\n",
        "\n",
        "  Args:\n",
        "    model: Instance of tf.keras.Model.\n",
        "    compute_loss_fn: A function that computes the training loss given the\n",
        "      images, and labels.\n",
        "  \"\"\"\n",
        "\n",
        "  # your code start from here for step 4\n",
        "  optimizer = tf.keras.optimizers.Adam(learning_rate=0.001)\n",
        "\n",
        "  for epoch in range(1, NUM_EPOCHS + 1):\n",
        "    # Run training.\n",
        "    print('Epoch {}: '.format(epoch), end='')\n",
        "    for images, labels in mnist_train:\n",
        "      with tf.GradientTape() as tape:\n",
        "         # your code start from here for step 4\n",
        "        loss_value = compute_loss_fn(images, labels)\n",
        "        #tape.watch(loss_value)\n",
        "      grads = tape.gradient(loss_value, model.trainable_variables)\n",
        "      optimizer.apply_gradients(zip(grads, model.trainable_variables))\n",
        "\n",
        "    # Run evaluation.\n",
        "    num_correct = 0\n",
        "    num_total = builder.info.splits['test'].num_examples\n",
        "    for images, labels in mnist_test:\n",
        "      # your code start from here for step 4\n",
        "      num_correct += compute_num_correct(model, images, labels)[0]\n",
        "    print(\"Class_accuracy: \" + '{:.2f}%'.format(\n",
        "        num_correct / num_total * 100))\n",
        "\n",
        "  return num_correct / num_total\n"
      ]
    },
    {
      "cell_type": "markdown",
      "metadata": {
        "id": "NQL1lJdaRPT1"
      },
      "source": [
        "# Training models"
      ]
    },
    {
      "cell_type": "code",
      "execution_count": 7,
      "metadata": {},
      "outputs": [
        {
          "name": "stdout",
          "output_type": "stream",
          "text": [
            "Epoch 1: Class_accuracy: 97.70%\n",
            "Epoch 2: Class_accuracy: 98.44%\n",
            "Epoch 3: Class_accuracy: 98.76%\n",
            "Epoch 4: Class_accuracy: 98.74%\n",
            "Epoch 5: Class_accuracy: 98.95%\n",
            "Epoch 6: Class_accuracy: 98.94%\n",
            "Epoch 7: Class_accuracy: 99.02%\n",
            "Epoch 8: Class_accuracy: 99.08%\n",
            "Epoch 9: Class_accuracy: 99.16%\n",
            "Epoch 10: Class_accuracy: 99.11%\n",
            "Epoch 11: Class_accuracy: 99.18%\n",
            "Epoch 12: Class_accuracy: 99.24%\n"
          ]
        },
        {
          "data": {
            "text/plain": [
              "<tf.Tensor: shape=(), dtype=float32, numpy=0.9924>"
            ]
          },
          "execution_count": 7,
          "metadata": {},
          "output_type": "execute_result"
        }
      ],
      "source": [
        "train_and_evaluate(cnn_model, compute_teacher_loss)"
      ]
    },
    {
      "cell_type": "code",
      "execution_count": null,
      "metadata": {},
      "outputs": [],
      "source": [
        "##RESET MODEL\n",
        "\n",
        "# Build fully connected student.\n",
        "fc_model = tf.keras.Sequential()\n",
        "\n",
        "fc_model.add(layers.Flatten())\n",
        "fc_model.add(layers.Dense(784,activation='relu'))\n",
        "fc_model.add(layers.Dense(784,activation='relu'))\n",
        "fc_model.add(layers.Dense(NUM_CLASSES))\n",
        "\n",
        "\n",
        "# Hyperparameters for distillation (need to be tuned).\n",
        "ALPHA = 0.5 # task balance between cross-entropy and distillation loss\n",
        "DISTILLATION_TEMPERATURE = 2.5 #temperature hyperparameter\n",
        "\n",
        "# your code start from here for step 5 \n",
        "\n",
        "accuracy = train_and_evaluate(fc_model, compute_student_loss)"
      ]
    },
    {
      "cell_type": "code",
      "execution_count": 9,
      "metadata": {},
      "outputs": [
        {
          "name": "stdout",
          "output_type": "stream",
          "text": [
            "0.9857\n"
          ]
        }
      ],
      "source": [
        "print(accuracy.numpy())"
      ]
    },
    {
      "cell_type": "code",
      "execution_count": null,
      "metadata": {},
      "outputs": [],
      "source": [
        "#fc_model.save(r'D:\\Github Repos\\ECE1512\\-ECE1512_2022W_ProjectRepo_StephanieDiNunzio\\Project B\\Project_B_Supp\\models\\MNIST-stu.h5')"
      ]
    },
    {
      "cell_type": "code",
      "execution_count": null,
      "metadata": {},
      "outputs": [],
      "source": [
        "fc_model = tf.keras.models.load_model(r'D:\\Github Repos\\ECE1512\\-ECE1512_2022W_ProjectRepo_StephanieDiNunzio\\Project B\\Project_B_Supp\\models\\MNIST-stu.h5')"
      ]
    },
    {
      "cell_type": "markdown",
      "metadata": {
        "id": "sj1N38fnRTNB"
      },
      "source": [
        "# Test accuracy vs. tempreture curve"
      ]
    },
    {
      "cell_type": "code",
      "execution_count": null,
      "metadata": {
        "id": "gX4dbazrRWIz"
      },
      "outputs": [],
      "source": [
        "# your code start from here for step 6\n",
        "ALPHA = 0.5 # task balance between cross-entropy and distillation loss\n",
        "T = [1.,2.,4.,16.,32.,64.]\n",
        "acc = []\n",
        "\n",
        "for i in T:\n",
        "    ##RESET MODEL\n",
        "\n",
        "    # Build fully connected student.\n",
        "    fc_model = tf.keras.Sequential()\n",
        "\n",
        "    fc_model.add(layers.Flatten())\n",
        "    fc_model.add(layers.Dense(784,activation='relu'))\n",
        "    fc_model.add(layers.Dense(784,activation='relu'))\n",
        "    fc_model.add(layers.Dense(NUM_CLASSES))\n",
        "\n",
        "\n",
        "    DISTILLATION_TEMPERATURE = i #temperature hyperparameter\n",
        "\n",
        "    acc.append(train_and_evaluate(fc_model, compute_student_loss).numpy())\n",
        "\n"
      ]
    },
    {
      "cell_type": "code",
      "execution_count": 54,
      "metadata": {},
      "outputs": [
        {
          "data": {
            "text/plain": [
              "Text(0.5, 0, 'Temperature')"
            ]
          },
          "execution_count": 54,
          "metadata": {},
          "output_type": "execute_result"
        },
        {
          "data": {
            "image/png": "[encoded data removed]",
            "text/plain": [
              "<Figure size 432x288 with 1 Axes>"
            ]
          },
          "metadata": {
            "needs_background": "light"
          },
          "output_type": "display_data"
        }
      ],
      "source": [
        "import matplotlib.pyplot as plt\n",
        "\n",
        "plt.plot(T,acc)\n",
        "plt.ylabel('Accuracy')\n",
        "plt.xlabel('Temperature')"
      ]
    },
    {
      "cell_type": "markdown",
      "metadata": {
        "id": "WNrH_1emRbGA"
      },
      "source": [
        "# Train student from scratch"
      ]
    },
    {
      "cell_type": "code",
      "execution_count": 13,
      "metadata": {
        "id": "HjospsxIRbQ6"
      },
      "outputs": [
        {
          "name": "stdout",
          "output_type": "stream",
          "text": [
            "Epoch 1: Class_accuracy: 96.71%\n",
            "Epoch 2: Class_accuracy: 97.05%\n",
            "Epoch 3: Class_accuracy: 97.99%\n",
            "Epoch 4: Class_accuracy: 97.76%\n",
            "Epoch 5: Class_accuracy: 98.03%\n",
            "Epoch 6: Class_accuracy: 98.04%\n",
            "Epoch 7: Class_accuracy: 97.97%\n",
            "Epoch 8: Class_accuracy: 97.80%\n",
            "Epoch 9: Class_accuracy: 98.18%\n",
            "Epoch 10: Class_accuracy: 98.19%\n",
            "Epoch 11: Class_accuracy: 98.02%\n",
            "Epoch 12: Class_accuracy: 97.78%\n"
          ]
        },
        {
          "data": {
            "text/plain": [
              "<tf.Tensor: shape=(), dtype=float32, numpy=0.9778>"
            ]
          },
          "execution_count": 13,
          "metadata": {},
          "output_type": "execute_result"
        }
      ],
      "source": [
        "# Build fully connected student.\n",
        "fc_model_no_distillation = tf.keras.Sequential()\n",
        "\n",
        "# your code start from here for step 7\n",
        "\n",
        "fc_model_no_distillation.add(layers.Flatten())\n",
        "fc_model_no_distillation.add(layers.Dense(784,activation='relu'))\n",
        "fc_model_no_distillation.add(layers.Dense(784,activation='relu'))\n",
        "fc_model_no_distillation.add(layers.Dense(NUM_CLASSES))\n",
        "\n",
        "#@test {\"output\": \"ignore\"}\n",
        "\n",
        "def compute_plain_cross_entropy_loss(images, labels):\n",
        "  \"\"\"Compute plain loss for given images and labels.\n",
        "\n",
        "  For fair comparison and convenience, this function also performs a\n",
        "  LogSumExp over classes, but does not perform class distillation.\n",
        "\n",
        "  Args:\n",
        "    images: Tensor representing a batch of images.\n",
        "    labels: Tensor representing a batch of labels.\n",
        "\n",
        "  Returns:\n",
        "    Scalar loss Tensor.\n",
        "  \"\"\"\n",
        "  # your code start from here for step 7\n",
        "\n",
        "  student_class_logits = fc_model_no_distillation(images, training=True)\n",
        "\n",
        "  loss = keras.losses.CategoricalCrossentropy(from_logits=True)\n",
        "  \n",
        "  cross_entropy_loss = loss(labels,student_class_logits)\n",
        "  \n",
        "  return cross_entropy_loss\n",
        "\n",
        "\n",
        "train_and_evaluate(fc_model_no_distillation, compute_plain_cross_entropy_loss)"
      ]
    },
    {
      "cell_type": "markdown",
      "metadata": {
        "id": "yq3JTpQ4RuhR"
      },
      "source": [
        "# Comparing the teacher and student model (number of of parameters and FLOPs) "
      ]
    },
    {
      "cell_type": "code",
      "execution_count": 14,
      "metadata": {
        "id": "4V8GB2yRRuxF"
      },
      "outputs": [
        {
          "name": "stdout",
          "output_type": "stream",
          "text": [
            "WARNING:tensorflow:From C:\\Users\\Stephanie\\anaconda3\\envs\\ece1512\\lib\\site-packages\\tensorflow\\python\\ops\\nn_ops.py:5063: tensor_shape_from_node_def_name (from tensorflow.python.framework.graph_util_impl) is deprecated and will be removed in a future version.\n",
            "Instructions for updating:\n",
            "Use `tf.compat.v1.graph_util.tensor_shape_from_node_def_name`\n"
          ]
        },
        {
          "name": "stderr",
          "output_type": "stream",
          "text": [
            "WARNING:tensorflow:From C:\\Users\\Stephanie\\anaconda3\\envs\\ece1512\\lib\\site-packages\\tensorflow\\python\\ops\\nn_ops.py:5063: tensor_shape_from_node_def_name (from tensorflow.python.framework.graph_util_impl) is deprecated and will be removed in a future version.\n",
            "Instructions for updating:\n",
            "Use `tf.compat.v1.graph_util.tensor_shape_from_node_def_name`\n"
          ]
        },
        {
          "name": "stdout",
          "output_type": "stream",
          "text": [
            "7766592000\n",
            "WARNING:tensorflow:Layers in a Sequential model should only have a single input tensor, but we receive a <class 'list'> input: [<tf.Tensor 'args_0:0' shape=(256, 28, 28, 1) dtype=float32>]\n",
            "Consider rewriting this model with the Functional API.\n"
          ]
        },
        {
          "name": "stderr",
          "output_type": "stream",
          "text": [
            "WARNING:tensorflow:Layers in a Sequential model should only have a single input tensor, but we receive a <class 'list'> input: [<tf.Tensor 'args_0:0' shape=(256, 28, 28, 1) dtype=float32>]\n",
            "Consider rewriting this model with the Functional API.\n"
          ]
        },
        {
          "name": "stdout",
          "output_type": "stream",
          "text": [
            "633825792\n"
          ]
        }
      ],
      "source": [
        "# your code start from here for step 8\n",
        "from keras_flops import get_flops\n",
        "\n",
        "flops_teacher = get_flops(cnn_model, batch_size=BATCH_SIZE)\n",
        "print(flops_teacher)\n",
        "flops_student = get_flops(fc_model, batch_size=BATCH_SIZE)\n",
        "print(flops_student)"
      ]
    },
    {
      "cell_type": "markdown",
      "metadata": {
        "id": "8b5yNhJfRu-7"
      },
      "source": [
        "# XAI method to explain models"
      ]
    },
    {
      "cell_type": "code",
      "execution_count": 79,
      "metadata": {},
      "outputs": [
        {
          "name": "stderr",
          "output_type": "stream",
          "text": [
            "100%|██████████| 1000/1000 [00:02<00:00, 449.26it/s]\n",
            "100%|██████████| 1000/1000 [00:01<00:00, 773.56it/s]\n",
            "100%|██████████| 1000/1000 [00:01<00:00, 772.36it/s]\n"
          ]
        }
      ],
      "source": [
        "from lime import lime_image\n",
        "import matplotlib.pyplot as plt\n",
        "j = 0\n",
        "for images, labels in mnist_test:\n",
        "    j += 1\n",
        "    if j == 3:\n",
        "        numpy_images = images.numpy()\n",
        "        break\n",
        "\n",
        "\n",
        "explainer = lime_image.LimeImageExplainer()\n",
        "\n",
        "from skimage.color import gray2rgb, rgb2gray, label2rgb # since the code wants color images\n",
        "\n",
        "def teacher_pred_fn(imgs):\n",
        "    tot_probs = []\n",
        "    for img in imgs:\n",
        "        grayimg = rgb2gray(tf.expand_dims(img,axis=2))\n",
        "        logits = cnn_model(tf.expand_dims(grayimg, axis=0), training=False)\n",
        "        probs = tf.nn.softmax(logits).numpy()\n",
        "        tot_probs.append(probs[0])\n",
        "    return tot_probs\n",
        "\n",
        "def studentKD_pred_fn(imgs):\n",
        "    tot_probs = []\n",
        "    for img in imgs:\n",
        "        grayimg = rgb2gray(tf.expand_dims(img,axis=2))\n",
        "        logits = fc_model(tf.expand_dims(grayimg, axis=0), training=False)\n",
        "        probs = tf.nn.softmax(logits).numpy()\n",
        "        tot_probs.append(probs[0])\n",
        "    return tot_probs\n",
        "\n",
        "def student_pred_fn(imgs):\n",
        "    tot_probs = []\n",
        "    for img in imgs:\n",
        "        grayimg = rgb2gray(tf.expand_dims(img,axis=2))\n",
        "        logits = fc_model_no_distillation(tf.expand_dims(grayimg, axis=0), training=False)\n",
        "        probs = tf.nn.softmax(logits).numpy()\n",
        "        tot_probs.append(probs[0])\n",
        "    return tot_probs\n",
        "\n",
        "#print(pred_fn([gray2rgb(np.reshape(numpy_images[1],(28,28)))]))\n",
        "\n",
        "#index = 3\n",
        "#index = 21\n",
        "\n",
        "index = 3\n",
        "\n",
        "teacher_explanation = explainer.explain_instance(gray2rgb(np.reshape(numpy_images[index],(28,28))), classifier_fn=teacher_pred_fn)\n",
        "teacher_img, teacher_mask = teacher_explanation.get_image_and_mask(np.argmax(labels[index].numpy()), num_features=64, hide_rest=True)\n",
        "teacher_pred = np.argmax(cnn_model(images,training=False)[index].numpy())\n",
        "\n",
        "studentKD_explanation = explainer.explain_instance(gray2rgb(np.reshape(numpy_images[index],(28,28))), classifier_fn=studentKD_pred_fn)\n",
        "studentKD_img, studentKD_mask = studentKD_explanation.get_image_and_mask(np.argmax(labels[index].numpy()), num_features=64, hide_rest=True)\n",
        "studentKD_pred = np.argmax(fc_model(images,training=False)[index].numpy())\n",
        "\n",
        "student_explanation = explainer.explain_instance(gray2rgb(np.reshape(numpy_images[index],(28,28))), classifier_fn=student_pred_fn)\n",
        "student_img, student_mask = student_explanation.get_image_and_mask(np.argmax(labels[index].numpy()), num_features=64, hide_rest=True)\n",
        "student_pred = np.argmax(fc_model_no_distillation(images,training=False)[index].numpy())"
      ]
    },
    {
      "cell_type": "code",
      "execution_count": 80,
      "metadata": {},
      "outputs": [
        {
          "name": "stdout",
          "output_type": "stream",
          "text": [
            "[4, 4, 9]\n"
          ]
        },
        {
          "data": {
            "image/png": "[encoded data removed]",
            "text/plain": [
              "<Figure size 1440x360 with 4 Axes>"
            ]
          },
          "metadata": {
            "needs_background": "light"
          },
          "output_type": "display_data"
        }
      ],
      "source": [
        "from skimage.segmentation import mark_boundaries\n",
        "\n",
        "plt.figure(figsize=(20,5))\n",
        "\n",
        "plt.subplot(1,4,1)\n",
        "plt.imshow(numpy_images[index])\n",
        "plt.axis('off')\n",
        "plt.title('Original Image')\n",
        "\n",
        "plt.subplot(1,4,2)\n",
        "plt.imshow(mark_boundaries(teacher_img, teacher_mask, color=(1, 0, 1)))\n",
        "plt.axis('off')\n",
        "plt.title('LIME Teacher')\n",
        "\n",
        "plt.subplot(1,4,3)\n",
        "plt.imshow(mark_boundaries(studentKD_img, studentKD_mask, color=(1, 0, 1)))\n",
        "plt.axis('off')\n",
        "plt.title('LIME Student KD')\n",
        "\n",
        "plt.subplot(1,4,4)\n",
        "plt.imshow(mark_boundaries(student_img, student_mask, color=(1, 0, 1)))\n",
        "plt.axis('off')\n",
        "plt.title('LIME Student w/o KD')\n",
        "\n",
        "preds = [teacher_pred, studentKD_pred, student_pred]\n",
        "\n",
        "print(preds)"
      ]
    },
    {
      "cell_type": "code",
      "execution_count": 81,
      "metadata": {},
      "outputs": [
        {
          "name": "stdout",
          "output_type": "stream",
          "text": [
            "[4, 4, 9]\n"
          ]
        },
        {
          "data": {
            "image/png": "[encoded data removed]",
            "text/plain": [
              "<Figure size 1440x360 with 4 Axes>"
            ]
          },
          "metadata": {
            "needs_background": "light"
          },
          "output_type": "display_data"
        }
      ],
      "source": [
        "from skimage.segmentation import mark_boundaries\n",
        "\n",
        "plt.figure(figsize=(20,5))\n",
        "\n",
        "plt.subplot(1,4,1)\n",
        "plt.imshow(numpy_images[index])\n",
        "plt.axis('off')\n",
        "plt.title('Original Image')\n",
        "\n",
        "plt.subplot(1,4,2)\n",
        "plt.imshow(teacher_mask)\n",
        "plt.axis('off')\n",
        "plt.title('LIME Teacher')\n",
        "\n",
        "plt.subplot(1,4,3)\n",
        "plt.imshow(studentKD_mask)\n",
        "plt.axis('off')\n",
        "plt.title('LIME Student KD')\n",
        "\n",
        "plt.subplot(1,4,4)\n",
        "plt.imshow(student_mask)\n",
        "plt.axis('off')\n",
        "plt.title('LIME Student w/o KD')\n",
        "\n",
        "preds = [teacher_pred, studentKD_pred, student_pred]\n",
        "\n",
        "print(preds)"
      ]
    },
    {
      "cell_type": "markdown",
      "metadata": {
        "id": "KjwJ5oziRvRn"
      },
      "source": [
        "# Implementing the state-of-the-art KD algorithm"
      ]
    },
    {
      "cell_type": "code",
      "execution_count": 82,
      "metadata": {
        "id": "q10lybAFRvZt"
      },
      "outputs": [],
      "source": [
        "# your code start from here for step 13\n",
        "# Build CNN teacher.\n",
        "cnn2_model = tf.keras.Sequential()\n",
        "\n",
        "# your code start from here for stpe 2\n",
        "from tensorflow.keras import layers\n",
        " \n",
        "cnn2_model.add(layers.Conv2D(32,3,strides=1,padding='same',activation='relu',input_shape=(28,28,1)))\n",
        "cnn2_model.add(layers.MaxPool2D(pool_size=(2,2),strides=1))\n",
        "cnn2_model.add(layers.Conv2D(64,3,strides=1,padding='same',activation='relu'))\n",
        "cnn2_model.add(layers.MaxPool2D(pool_size=(2,2),strides=2))\n",
        "cnn2_model.add(layers.Flatten())\n",
        "cnn2_model.add(layers.Dropout(0.5))\n",
        "cnn2_model.add(layers.Dense(128,activation='relu'))\n",
        "cnn2_model.add(layers.Dropout(0.5))\n",
        "cnn2_model.add(layers.Dense(128,activation='relu'))\n",
        "cnn2_model.add(layers.Dropout(0.5))\n",
        "cnn2_model.add(layers.Dense(NUM_CLASSES))\n",
        "##\n"
      ]
    },
    {
      "cell_type": "code",
      "execution_count": 83,
      "metadata": {},
      "outputs": [],
      "source": [
        "import keras\n",
        "import numpy as np\n",
        "@tf.function\n",
        "def compute_teacher_loss2(images, labels):\n",
        "  \"\"\"Compute class knowledge distillation teacher loss for given images\n",
        "     and labels.\n",
        "\n",
        "  Args:\n",
        "    images: Tensor representing a batch of images.\n",
        "    labels: Tensor representing a batch of labels.\n",
        "\n",
        "  Returns:\n",
        "    Scalar loss Tensor.\n",
        "  \"\"\"\n",
        "  class_logits = cnn2_model(images, training=True)\n",
        "\n",
        "  # Compute cross-entropy loss for classes.\n",
        "\n",
        "  # your code start from here for step 3\n",
        " \n",
        "  loss = keras.losses.CategoricalCrossentropy(from_logits=True)\n",
        "  \n",
        "  cross_entropy_loss_value = loss(labels,class_logits)\n",
        "\n",
        "\n",
        "  return cross_entropy_loss_value"
      ]
    },
    {
      "cell_type": "code",
      "execution_count": 84,
      "metadata": {},
      "outputs": [],
      "source": [
        "#@test {\"output\": \"ignore\"}\n",
        "\n",
        "# Hyperparameters for distillation (need to be tuned).\n",
        "ALPHA2 = 0.5 # task balance between cross-entropy and distillation loss\n",
        "DISTILLATION_TEMPERATURE2 = 4. #temperature hyperparameter\n",
        "\n",
        "ALPHA3 = 0.5 # task balance between cross-entropy and distillation loss\n",
        "DISTILLATION_TEMPERATURE3 = 4. #temperature hyperparameter\n",
        "\n",
        "\n",
        "def compute_ta_loss(images, labels):\n",
        "  \"\"\"Compute class knowledge distillation student loss for given images\n",
        "     and labels.\n",
        "\n",
        "  Args:\n",
        "    images: Tensor representing a batch of images.\n",
        "    labels: Tensor representing a batch of labels.\n",
        "\n",
        "  Returns:\n",
        "    Scalar loss Tensor.\n",
        "  \"\"\"\n",
        "  ta_class_logits = ta_model(images, training=True)\n",
        "\n",
        "  # Compute class distillation loss between student class logits and\n",
        "  # softened teacher class targets probabilities.\n",
        "\n",
        "  # your code start from here for step 3\n",
        "\n",
        "  teacher_class_logits = cnn2_model(images, training=False)\n",
        "  distillation_loss_value = distillation_loss(teacher_class_logits, ta_class_logits, DISTILLATION_TEMPERATURE2)\n",
        "\n",
        "  # Compute cross-entropy loss with hard targets.\n",
        "\n",
        "  # your code start from here for step 3\n",
        "  loss = keras.losses.CategoricalCrossentropy(from_logits=True)\n",
        "  \n",
        "  cross_entropy_loss_value = loss(labels,ta_class_logits).numpy()\n",
        "\n",
        "  return ALPHA2*cross_entropy_loss_value + (1-ALPHA2)*distillation_loss_value\n",
        "\n",
        "\n",
        "def compute_student_loss2(images, labels):\n",
        "  \"\"\"Compute class knowledge distillation student loss for given images\n",
        "     and labels.\n",
        "\n",
        "  Args:\n",
        "    images: Tensor representing a batch of images.\n",
        "    labels: Tensor representing a batch of labels.\n",
        "\n",
        "  Returns:\n",
        "    Scalar loss Tensor.\n",
        "  \"\"\"\n",
        "  student_class_logits = fc2_model(images, training=True)\n",
        "\n",
        "  # Compute class distillation loss between student class logits and\n",
        "  # softened teacher class targets probabilities.\n",
        "\n",
        "  # your code start from here for step 3\n",
        "\n",
        "  ta_class_logits = ta_model(images, training=False)\n",
        "  distillation_loss_value = distillation_loss(ta_class_logits, student_class_logits, DISTILLATION_TEMPERATURE3)\n",
        "\n",
        "  # Compute cross-entropy loss with hard targets.\n",
        "\n",
        "  # your code start from here for step 3\n",
        "  loss = keras.losses.CategoricalCrossentropy(from_logits=True)\n",
        "  \n",
        "  cross_entropy_loss_value = loss(labels,student_class_logits).numpy()\n",
        "\n",
        "  return ALPHA3*cross_entropy_loss_value + (1-ALPHA3)*distillation_loss_value"
      ]
    },
    {
      "cell_type": "code",
      "execution_count": 85,
      "metadata": {},
      "outputs": [
        {
          "name": "stdout",
          "output_type": "stream",
          "text": [
            "Epoch 1: Class_accuracy: 97.67%\n",
            "Epoch 2: Class_accuracy: 98.44%\n",
            "Epoch 3: Class_accuracy: 98.77%\n",
            "Epoch 4: Class_accuracy: 98.77%\n",
            "Epoch 5: Class_accuracy: 98.97%\n",
            "Epoch 6: Class_accuracy: 99.15%\n",
            "Epoch 7: Class_accuracy: 99.12%\n",
            "Epoch 8: Class_accuracy: 99.08%\n",
            "Epoch 9: Class_accuracy: 99.08%\n",
            "Epoch 10: Class_accuracy: 99.00%\n",
            "Epoch 11: Class_accuracy: 99.19%\n",
            "Epoch 12: Class_accuracy: 99.16%\n"
          ]
        },
        {
          "data": {
            "text/plain": [
              "<tf.Tensor: shape=(), dtype=float32, numpy=0.9916>"
            ]
          },
          "execution_count": 85,
          "metadata": {},
          "output_type": "execute_result"
        }
      ],
      "source": [
        "train_and_evaluate(cnn2_model, compute_teacher_loss2)"
      ]
    },
    {
      "cell_type": "code",
      "execution_count": 88,
      "metadata": {},
      "outputs": [
        {
          "name": "stdout",
          "output_type": "stream",
          "text": [
            "Epoch 1: Class_accuracy: 97.74%\n",
            "Epoch 2: Class_accuracy: 98.29%\n",
            "Epoch 3: Class_accuracy: 98.47%\n",
            "Epoch 4: Class_accuracy: 98.60%\n",
            "Epoch 5: Class_accuracy: 98.65%\n",
            "Epoch 6: Class_accuracy: 98.60%\n",
            "Epoch 7: Class_accuracy: 98.66%\n",
            "Epoch 8: Class_accuracy: 98.65%\n",
            "Epoch 9: Class_accuracy: 98.77%\n",
            "Epoch 10: Class_accuracy: 98.87%\n",
            "Epoch 11: Class_accuracy: 98.86%\n",
            "Epoch 12: Class_accuracy: 98.98%\n"
          ]
        },
        {
          "data": {
            "text/plain": [
              "<tf.Tensor: shape=(), dtype=float32, numpy=0.9898>"
            ]
          },
          "execution_count": 88,
          "metadata": {},
          "output_type": "execute_result"
        }
      ],
      "source": [
        "# Hyperparameters for distillation (need to be tuned).\n",
        "ALPHA2 = 0.55 # task balance between cross-entropy and distillation loss\n",
        "DISTILLATION_TEMPERATURE2 = 3.2 #temperature hyperparameter\n",
        "\n",
        "ta_model = tf.keras.Sequential()\n",
        "\n",
        "ta_model.add(layers.Conv2D(64,3,strides=1,padding='same',activation='relu',input_shape=(28,28,1)))\n",
        "ta_model.add(layers.MaxPool2D(pool_size=(2,2),strides=1))\n",
        "ta_model.add(layers.Flatten())\n",
        "ta_model.add(layers.Dropout(0.5))\n",
        "ta_model.add(layers.Dense(256,activation='relu'))\n",
        "ta_model.add(layers.Dropout(0.5))\n",
        "ta_model.add(layers.Dense(NUM_CLASSES))\n",
        "\n",
        "train_and_evaluate(ta_model, compute_ta_loss)"
      ]
    },
    {
      "cell_type": "code",
      "execution_count": 93,
      "metadata": {},
      "outputs": [
        {
          "name": "stdout",
          "output_type": "stream",
          "text": [
            "Epoch 1: Class_accuracy: 96.02%\n",
            "Epoch 2: Class_accuracy: 97.07%\n",
            "Epoch 3: Class_accuracy: 97.41%\n",
            "Epoch 4: Class_accuracy: 97.76%\n",
            "Epoch 5: Class_accuracy: 97.99%\n",
            "Epoch 6: Class_accuracy: 97.82%\n",
            "Epoch 7: Class_accuracy: 98.14%\n",
            "Epoch 8: Class_accuracy: 97.99%\n",
            "Epoch 9: Class_accuracy: 98.09%\n",
            "Epoch 10: Class_accuracy: 98.07%\n",
            "Epoch 11: Class_accuracy: 98.28%\n",
            "Epoch 12: Class_accuracy: 98.19%\n"
          ]
        },
        {
          "data": {
            "text/plain": [
              "<tf.Tensor: shape=(), dtype=float32, numpy=0.9819>"
            ]
          },
          "execution_count": 93,
          "metadata": {},
          "output_type": "execute_result"
        }
      ],
      "source": [
        "ALPHA3 = 0.48 # task balance between cross-entropy and distillation loss\n",
        "DISTILLATION_TEMPERATURE3 = 3.5 #temperature hyperparameter\n",
        "\n",
        "# Build fully connected student.\n",
        "fc2_model = tf.keras.Sequential()\n",
        "\n",
        "# your code start from here for step 2\n",
        "\n",
        "fc2_model.add(layers.Flatten())\n",
        "fc2_model.add(layers.Dense(784,activation='relu'))\n",
        "fc2_model.add(layers.Dense(784,activation='relu'))\n",
        "fc2_model.add(layers.Dense(NUM_CLASSES))\n",
        "\n",
        "train_and_evaluate(fc2_model, compute_student_loss2)"
      ]
    }
  ],
  "metadata": {
    "colab": {
      "name": "Task1.ipynb",
      "provenance": []
    },
    "kernelspec": {
      "display_name": "Python 3",
      "name": "python3"
    },
    "language_info": {
      "codemirror_mode": {
        "name": "ipython",
        "version": 3
      },
      "file_extension": ".py",
      "mimetype": "text/x-python",
      "name": "python",
      "nbconvert_exporter": "python",
      "pygments_lexer": "ipython3",
      "version": "3.9.7"
    }
  },
  "nbformat": 4,
  "nbformat_minor": 0
}
