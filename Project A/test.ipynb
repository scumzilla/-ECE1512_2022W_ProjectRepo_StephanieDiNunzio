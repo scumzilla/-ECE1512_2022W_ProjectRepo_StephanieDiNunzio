{
 "cells": [
  {
   "cell_type": "code",
   "execution_count": null,
   "id": "096a2699-21e3-4e74-add9-71e927acfe78",
   "metadata": {},
   "outputs": [],
   "source": [
    "import numpy as np\n",
    "import pickle\n",
    "\n",
    "%matplotlib inline\n",
    "\n",
    "import matplotlib\n",
    "import matplotlib.pyplot as plt\n",
    "\n",
    "import scipy"
   ]
  },
  {
   "cell_type": "code",
   "execution_count": null,
   "id": "a199509f",
   "metadata": {},
   "outputs": [],
   "source": []
  }
 ],
 "metadata": {
  "interpreter": {
   "hash": "83aa9296f829ab9a03e5d9fde091e523b391dbcc54bbe60afe584a1cd04f88ab"
  },
  "kernelspec": {
   "display_name": "Python 3.8.12 64-bit ('neuro': conda)",
   "name": "python3"
  },
  "language_info": {
   "codemirror_mode": {
    "name": "ipython",
    "version": 3
   },
   "file_extension": ".py",
   "mimetype": "text/x-python",
   "name": "python",
   "nbconvert_exporter": "python",
   "pygments_lexer": "ipython3",
   "version": "3.9.7"
  }
 },
 "nbformat": 4,
 "nbformat_minor": 5
}
